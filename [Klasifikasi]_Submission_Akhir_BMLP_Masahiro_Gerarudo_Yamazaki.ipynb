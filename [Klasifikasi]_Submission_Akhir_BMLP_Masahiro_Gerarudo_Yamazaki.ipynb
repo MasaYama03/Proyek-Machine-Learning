{
  "nbformat": 4,
  "nbformat_minor": 0,
  "metadata": {
    "colab": {
      "provenance": []
    },
    "kernelspec": {
      "name": "python3",
      "display_name": "Python 3"
    },
    "language_info": {
      "name": "python"
    }
  },
  "cells": [
    {
      "cell_type": "markdown",
      "source": [
        "- Nama : Masahiro Gerarudo Yamazaki\n",
        "- Email\t  : \tmasahiroymzk24@gmail.com\n"
      ],
      "metadata": {
        "id": "86Vi8uTvp9E2"
      }
    },
    {
      "cell_type": "markdown",
      "source": [
        "# **1. Import Library**"
      ],
      "metadata": {
        "id": "fKADPWcFKlj3"
      }
    },
    {
      "cell_type": "markdown",
      "source": [
        "Pada tahap ini, Anda perlu mengimpor beberapa pustaka (library) Python yang dibutuhkan untuk analisis data dan pembangunan model machine learning."
      ],
      "metadata": {
        "id": "LgA3ERnVn84N"
      }
    },
    {
      "cell_type": "code",
      "source": [
        "import pandas as pd  # Mengimpor pustaka pandas untuk manipulasi dan analisis data\n",
        "import time\n",
        "import matplotlib.pyplot as plt\n",
        "import pandas as pd\n",
        "from imblearn.over_sampling import SMOTE\n",
        "from IPython.display import display\n",
        "from sklearn.model_selection import GridSearchCV\n",
        "from sklearn.linear_model import LogisticRegression\n",
        "from sklearn.ensemble import RandomForestClassifier\n",
        "from sklearn.preprocessing import LabelEncoder, MinMaxScaler\n",
        "from sklearn.model_selection import train_test_split, cross_val_score\n",
        "from sklearn.metrics import accuracy_score, f1_score, precision_score, recall_score, confusion_matrix, ConfusionMatrixDisplay, mean_squared_error, classification_report"
      ],
      "metadata": {
        "id": "BlmvjLY9M4Yj"
      },
      "execution_count": 291,
      "outputs": []
    },
    {
      "cell_type": "markdown",
      "source": [
        "# **2. Memuat Dataset dari Hasil Clustering**"
      ],
      "metadata": {
        "id": "f3YIEnAFKrKL"
      }
    },
    {
      "cell_type": "markdown",
      "source": [
        "Memuat dataset hasil clustering dari file CSV ke dalam variabel DataFrame."
      ],
      "metadata": {
        "id": "Ey3ItwTen_7E"
      }
    },
    {
      "cell_type": "code",
      "source": [
        "df = pd.read_csv('/content/Dataset_inisiasi.csv')\n",
        "df.head(6)"
      ],
      "metadata": {
        "id": "GHCGNTyrM5fS",
        "colab": {
          "base_uri": "https://localhost:8080/",
          "height": 237
        },
        "outputId": "42eda9f6-e26a-4ff1-ae2b-586a877c0e86"
      },
      "execution_count": 292,
      "outputs": [
        {
          "output_type": "execute_result",
          "data": {
            "text/plain": [
              "   TransactionAmount  CustomerAge  TransactionDuration  AccountBalance  \\\n",
              "0              14.09         70.0                 81.0         5112.21   \n",
              "1             376.24         68.0                141.0        13758.91   \n",
              "2             126.29         19.0                 56.0         1122.35   \n",
              "3             184.50         26.0                 25.0         8569.06   \n",
              "4              13.45         26.0                198.0         7429.40   \n",
              "5              92.15         18.0                172.0          781.68   \n",
              "\n",
              "   Cluster TransactionType Channel CustomerOccupation  \n",
              "0        2           Debit     ATM             Doctor  \n",
              "1        2           Debit     ATM             Doctor  \n",
              "2        1           Debit  Online            Student  \n",
              "3        1           Debit  Online            Student  \n",
              "4        4          Credit  Online            Student  \n",
              "5        2           Debit     ATM            Student  "
            ],
            "text/html": [
              "\n",
              "  <div id=\"df-81a93382-624a-4562-8a1e-37bc4ee229da\" class=\"colab-df-container\">\n",
              "    <div>\n",
              "<style scoped>\n",
              "    .dataframe tbody tr th:only-of-type {\n",
              "        vertical-align: middle;\n",
              "    }\n",
              "\n",
              "    .dataframe tbody tr th {\n",
              "        vertical-align: top;\n",
              "    }\n",
              "\n",
              "    .dataframe thead th {\n",
              "        text-align: right;\n",
              "    }\n",
              "</style>\n",
              "<table border=\"1\" class=\"dataframe\">\n",
              "  <thead>\n",
              "    <tr style=\"text-align: right;\">\n",
              "      <th></th>\n",
              "      <th>TransactionAmount</th>\n",
              "      <th>CustomerAge</th>\n",
              "      <th>TransactionDuration</th>\n",
              "      <th>AccountBalance</th>\n",
              "      <th>Cluster</th>\n",
              "      <th>TransactionType</th>\n",
              "      <th>Channel</th>\n",
              "      <th>CustomerOccupation</th>\n",
              "    </tr>\n",
              "  </thead>\n",
              "  <tbody>\n",
              "    <tr>\n",
              "      <th>0</th>\n",
              "      <td>14.09</td>\n",
              "      <td>70.0</td>\n",
              "      <td>81.0</td>\n",
              "      <td>5112.21</td>\n",
              "      <td>2</td>\n",
              "      <td>Debit</td>\n",
              "      <td>ATM</td>\n",
              "      <td>Doctor</td>\n",
              "    </tr>\n",
              "    <tr>\n",
              "      <th>1</th>\n",
              "      <td>376.24</td>\n",
              "      <td>68.0</td>\n",
              "      <td>141.0</td>\n",
              "      <td>13758.91</td>\n",
              "      <td>2</td>\n",
              "      <td>Debit</td>\n",
              "      <td>ATM</td>\n",
              "      <td>Doctor</td>\n",
              "    </tr>\n",
              "    <tr>\n",
              "      <th>2</th>\n",
              "      <td>126.29</td>\n",
              "      <td>19.0</td>\n",
              "      <td>56.0</td>\n",
              "      <td>1122.35</td>\n",
              "      <td>1</td>\n",
              "      <td>Debit</td>\n",
              "      <td>Online</td>\n",
              "      <td>Student</td>\n",
              "    </tr>\n",
              "    <tr>\n",
              "      <th>3</th>\n",
              "      <td>184.50</td>\n",
              "      <td>26.0</td>\n",
              "      <td>25.0</td>\n",
              "      <td>8569.06</td>\n",
              "      <td>1</td>\n",
              "      <td>Debit</td>\n",
              "      <td>Online</td>\n",
              "      <td>Student</td>\n",
              "    </tr>\n",
              "    <tr>\n",
              "      <th>4</th>\n",
              "      <td>13.45</td>\n",
              "      <td>26.0</td>\n",
              "      <td>198.0</td>\n",
              "      <td>7429.40</td>\n",
              "      <td>4</td>\n",
              "      <td>Credit</td>\n",
              "      <td>Online</td>\n",
              "      <td>Student</td>\n",
              "    </tr>\n",
              "    <tr>\n",
              "      <th>5</th>\n",
              "      <td>92.15</td>\n",
              "      <td>18.0</td>\n",
              "      <td>172.0</td>\n",
              "      <td>781.68</td>\n",
              "      <td>2</td>\n",
              "      <td>Debit</td>\n",
              "      <td>ATM</td>\n",
              "      <td>Student</td>\n",
              "    </tr>\n",
              "  </tbody>\n",
              "</table>\n",
              "</div>\n",
              "    <div class=\"colab-df-buttons\">\n",
              "\n",
              "  <div class=\"colab-df-container\">\n",
              "    <button class=\"colab-df-convert\" onclick=\"convertToInteractive('df-81a93382-624a-4562-8a1e-37bc4ee229da')\"\n",
              "            title=\"Convert this dataframe to an interactive table.\"\n",
              "            style=\"display:none;\">\n",
              "\n",
              "  <svg xmlns=\"http://www.w3.org/2000/svg\" height=\"24px\" viewBox=\"0 -960 960 960\">\n",
              "    <path d=\"M120-120v-720h720v720H120Zm60-500h600v-160H180v160Zm220 220h160v-160H400v160Zm0 220h160v-160H400v160ZM180-400h160v-160H180v160Zm440 0h160v-160H620v160ZM180-180h160v-160H180v160Zm440 0h160v-160H620v160Z\"/>\n",
              "  </svg>\n",
              "    </button>\n",
              "\n",
              "  <style>\n",
              "    .colab-df-container {\n",
              "      display:flex;\n",
              "      gap: 12px;\n",
              "    }\n",
              "\n",
              "    .colab-df-convert {\n",
              "      background-color: #E8F0FE;\n",
              "      border: none;\n",
              "      border-radius: 50%;\n",
              "      cursor: pointer;\n",
              "      display: none;\n",
              "      fill: #1967D2;\n",
              "      height: 32px;\n",
              "      padding: 0 0 0 0;\n",
              "      width: 32px;\n",
              "    }\n",
              "\n",
              "    .colab-df-convert:hover {\n",
              "      background-color: #E2EBFA;\n",
              "      box-shadow: 0px 1px 2px rgba(60, 64, 67, 0.3), 0px 1px 3px 1px rgba(60, 64, 67, 0.15);\n",
              "      fill: #174EA6;\n",
              "    }\n",
              "\n",
              "    .colab-df-buttons div {\n",
              "      margin-bottom: 4px;\n",
              "    }\n",
              "\n",
              "    [theme=dark] .colab-df-convert {\n",
              "      background-color: #3B4455;\n",
              "      fill: #D2E3FC;\n",
              "    }\n",
              "\n",
              "    [theme=dark] .colab-df-convert:hover {\n",
              "      background-color: #434B5C;\n",
              "      box-shadow: 0px 1px 3px 1px rgba(0, 0, 0, 0.15);\n",
              "      filter: drop-shadow(0px 1px 2px rgba(0, 0, 0, 0.3));\n",
              "      fill: #FFFFFF;\n",
              "    }\n",
              "  </style>\n",
              "\n",
              "    <script>\n",
              "      const buttonEl =\n",
              "        document.querySelector('#df-81a93382-624a-4562-8a1e-37bc4ee229da button.colab-df-convert');\n",
              "      buttonEl.style.display =\n",
              "        google.colab.kernel.accessAllowed ? 'block' : 'none';\n",
              "\n",
              "      async function convertToInteractive(key) {\n",
              "        const element = document.querySelector('#df-81a93382-624a-4562-8a1e-37bc4ee229da');\n",
              "        const dataTable =\n",
              "          await google.colab.kernel.invokeFunction('convertToInteractive',\n",
              "                                                    [key], {});\n",
              "        if (!dataTable) return;\n",
              "\n",
              "        const docLinkHtml = 'Like what you see? Visit the ' +\n",
              "          '<a target=\"_blank\" href=https://colab.research.google.com/notebooks/data_table.ipynb>data table notebook</a>'\n",
              "          + ' to learn more about interactive tables.';\n",
              "        element.innerHTML = '';\n",
              "        dataTable['output_type'] = 'display_data';\n",
              "        await google.colab.output.renderOutput(dataTable, element);\n",
              "        const docLink = document.createElement('div');\n",
              "        docLink.innerHTML = docLinkHtml;\n",
              "        element.appendChild(docLink);\n",
              "      }\n",
              "    </script>\n",
              "  </div>\n",
              "\n",
              "\n",
              "<div id=\"df-5ed457ee-bc50-45fa-9a26-5fdd2eaf8ec2\">\n",
              "  <button class=\"colab-df-quickchart\" onclick=\"quickchart('df-5ed457ee-bc50-45fa-9a26-5fdd2eaf8ec2')\"\n",
              "            title=\"Suggest charts\"\n",
              "            style=\"display:none;\">\n",
              "\n",
              "<svg xmlns=\"http://www.w3.org/2000/svg\" height=\"24px\"viewBox=\"0 0 24 24\"\n",
              "     width=\"24px\">\n",
              "    <g>\n",
              "        <path d=\"M19 3H5c-1.1 0-2 .9-2 2v14c0 1.1.9 2 2 2h14c1.1 0 2-.9 2-2V5c0-1.1-.9-2-2-2zM9 17H7v-7h2v7zm4 0h-2V7h2v10zm4 0h-2v-4h2v4z\"/>\n",
              "    </g>\n",
              "</svg>\n",
              "  </button>\n",
              "\n",
              "<style>\n",
              "  .colab-df-quickchart {\n",
              "      --bg-color: #E8F0FE;\n",
              "      --fill-color: #1967D2;\n",
              "      --hover-bg-color: #E2EBFA;\n",
              "      --hover-fill-color: #174EA6;\n",
              "      --disabled-fill-color: #AAA;\n",
              "      --disabled-bg-color: #DDD;\n",
              "  }\n",
              "\n",
              "  [theme=dark] .colab-df-quickchart {\n",
              "      --bg-color: #3B4455;\n",
              "      --fill-color: #D2E3FC;\n",
              "      --hover-bg-color: #434B5C;\n",
              "      --hover-fill-color: #FFFFFF;\n",
              "      --disabled-bg-color: #3B4455;\n",
              "      --disabled-fill-color: #666;\n",
              "  }\n",
              "\n",
              "  .colab-df-quickchart {\n",
              "    background-color: var(--bg-color);\n",
              "    border: none;\n",
              "    border-radius: 50%;\n",
              "    cursor: pointer;\n",
              "    display: none;\n",
              "    fill: var(--fill-color);\n",
              "    height: 32px;\n",
              "    padding: 0;\n",
              "    width: 32px;\n",
              "  }\n",
              "\n",
              "  .colab-df-quickchart:hover {\n",
              "    background-color: var(--hover-bg-color);\n",
              "    box-shadow: 0 1px 2px rgba(60, 64, 67, 0.3), 0 1px 3px 1px rgba(60, 64, 67, 0.15);\n",
              "    fill: var(--button-hover-fill-color);\n",
              "  }\n",
              "\n",
              "  .colab-df-quickchart-complete:disabled,\n",
              "  .colab-df-quickchart-complete:disabled:hover {\n",
              "    background-color: var(--disabled-bg-color);\n",
              "    fill: var(--disabled-fill-color);\n",
              "    box-shadow: none;\n",
              "  }\n",
              "\n",
              "  .colab-df-spinner {\n",
              "    border: 2px solid var(--fill-color);\n",
              "    border-color: transparent;\n",
              "    border-bottom-color: var(--fill-color);\n",
              "    animation:\n",
              "      spin 1s steps(1) infinite;\n",
              "  }\n",
              "\n",
              "  @keyframes spin {\n",
              "    0% {\n",
              "      border-color: transparent;\n",
              "      border-bottom-color: var(--fill-color);\n",
              "      border-left-color: var(--fill-color);\n",
              "    }\n",
              "    20% {\n",
              "      border-color: transparent;\n",
              "      border-left-color: var(--fill-color);\n",
              "      border-top-color: var(--fill-color);\n",
              "    }\n",
              "    30% {\n",
              "      border-color: transparent;\n",
              "      border-left-color: var(--fill-color);\n",
              "      border-top-color: var(--fill-color);\n",
              "      border-right-color: var(--fill-color);\n",
              "    }\n",
              "    40% {\n",
              "      border-color: transparent;\n",
              "      border-right-color: var(--fill-color);\n",
              "      border-top-color: var(--fill-color);\n",
              "    }\n",
              "    60% {\n",
              "      border-color: transparent;\n",
              "      border-right-color: var(--fill-color);\n",
              "    }\n",
              "    80% {\n",
              "      border-color: transparent;\n",
              "      border-right-color: var(--fill-color);\n",
              "      border-bottom-color: var(--fill-color);\n",
              "    }\n",
              "    90% {\n",
              "      border-color: transparent;\n",
              "      border-bottom-color: var(--fill-color);\n",
              "    }\n",
              "  }\n",
              "</style>\n",
              "\n",
              "  <script>\n",
              "    async function quickchart(key) {\n",
              "      const quickchartButtonEl =\n",
              "        document.querySelector('#' + key + ' button');\n",
              "      quickchartButtonEl.disabled = true;  // To prevent multiple clicks.\n",
              "      quickchartButtonEl.classList.add('colab-df-spinner');\n",
              "      try {\n",
              "        const charts = await google.colab.kernel.invokeFunction(\n",
              "            'suggestCharts', [key], {});\n",
              "      } catch (error) {\n",
              "        console.error('Error during call to suggestCharts:', error);\n",
              "      }\n",
              "      quickchartButtonEl.classList.remove('colab-df-spinner');\n",
              "      quickchartButtonEl.classList.add('colab-df-quickchart-complete');\n",
              "    }\n",
              "    (() => {\n",
              "      let quickchartButtonEl =\n",
              "        document.querySelector('#df-5ed457ee-bc50-45fa-9a26-5fdd2eaf8ec2 button');\n",
              "      quickchartButtonEl.style.display =\n",
              "        google.colab.kernel.accessAllowed ? 'block' : 'none';\n",
              "    })();\n",
              "  </script>\n",
              "</div>\n",
              "\n",
              "    </div>\n",
              "  </div>\n"
            ],
            "application/vnd.google.colaboratory.intrinsic+json": {
              "type": "dataframe",
              "variable_name": "df",
              "summary": "{\n  \"name\": \"df\",\n  \"rows\": 2399,\n  \"fields\": [\n    {\n      \"column\": \"TransactionAmount\",\n      \"properties\": {\n        \"dtype\": \"number\",\n        \"std\": 216.86926051261918,\n        \"min\": 0.26,\n        \"max\": 903.19,\n        \"num_unique_values\": 2342,\n        \"samples\": [\n          165.55,\n          737.34,\n          73.55\n        ],\n        \"semantic_type\": \"\",\n        \"description\": \"\"\n      }\n    },\n    {\n      \"column\": \"CustomerAge\",\n      \"properties\": {\n        \"dtype\": \"number\",\n        \"std\": 17.755355718919688,\n        \"min\": 18.0,\n        \"max\": 80.0,\n        \"num_unique_values\": 63,\n        \"samples\": [\n          77.0,\n          61.0,\n          70.0\n        ],\n        \"semantic_type\": \"\",\n        \"description\": \"\"\n      }\n    },\n    {\n      \"column\": \"TransactionDuration\",\n      \"properties\": {\n        \"dtype\": \"number\",\n        \"std\": 70.05746924485007,\n        \"min\": 10.0,\n        \"max\": 300.0,\n        \"num_unique_values\": 287,\n        \"samples\": [\n          120.0,\n          272.0,\n          143.0\n        ],\n        \"semantic_type\": \"\",\n        \"description\": \"\"\n      }\n    },\n    {\n      \"column\": \"AccountBalance\",\n      \"properties\": {\n        \"dtype\": \"number\",\n        \"std\": 3902.404953223891,\n        \"min\": 101.25,\n        \"max\": 14977.99,\n        \"num_unique_values\": 2397,\n        \"samples\": [\n          3876.61,\n          6371.51,\n          1368.0\n        ],\n        \"semantic_type\": \"\",\n        \"description\": \"\"\n      }\n    },\n    {\n      \"column\": \"Cluster\",\n      \"properties\": {\n        \"dtype\": \"number\",\n        \"std\": 1,\n        \"min\": 0,\n        \"max\": 5,\n        \"num_unique_values\": 6,\n        \"samples\": [\n          2,\n          1,\n          0\n        ],\n        \"semantic_type\": \"\",\n        \"description\": \"\"\n      }\n    },\n    {\n      \"column\": \"TransactionType\",\n      \"properties\": {\n        \"dtype\": \"category\",\n        \"num_unique_values\": 2,\n        \"samples\": [\n          \"Credit\",\n          \"Debit\"\n        ],\n        \"semantic_type\": \"\",\n        \"description\": \"\"\n      }\n    },\n    {\n      \"column\": \"Channel\",\n      \"properties\": {\n        \"dtype\": \"category\",\n        \"num_unique_values\": 3,\n        \"samples\": [\n          \"ATM\",\n          \"Online\"\n        ],\n        \"semantic_type\": \"\",\n        \"description\": \"\"\n      }\n    },\n    {\n      \"column\": \"CustomerOccupation\",\n      \"properties\": {\n        \"dtype\": \"category\",\n        \"num_unique_values\": 4,\n        \"samples\": [\n          \"Student\",\n          \"Engineer\"\n        ],\n        \"semantic_type\": \"\",\n        \"description\": \"\"\n      }\n    }\n  ]\n}"
            }
          },
          "metadata": {},
          "execution_count": 292
        }
      ]
    },
    {
      "cell_type": "code",
      "source": [
        "print(\"\\nInformasi dataset:\")\n",
        "df.info()"
      ],
      "metadata": {
        "colab": {
          "base_uri": "https://localhost:8080/"
        },
        "id": "zkEDtsl4UGhG",
        "outputId": "d2f105c4-5eb2-4235-f186-3743548a6518"
      },
      "execution_count": 293,
      "outputs": [
        {
          "output_type": "stream",
          "name": "stdout",
          "text": [
            "\n",
            "Informasi dataset:\n",
            "<class 'pandas.core.frame.DataFrame'>\n",
            "RangeIndex: 2399 entries, 0 to 2398\n",
            "Data columns (total 8 columns):\n",
            " #   Column               Non-Null Count  Dtype  \n",
            "---  ------               --------------  -----  \n",
            " 0   TransactionAmount    2399 non-null   float64\n",
            " 1   CustomerAge          2399 non-null   float64\n",
            " 2   TransactionDuration  2399 non-null   float64\n",
            " 3   AccountBalance       2399 non-null   float64\n",
            " 4   Cluster              2399 non-null   int64  \n",
            " 5   TransactionType      2399 non-null   object \n",
            " 6   Channel              2399 non-null   object \n",
            " 7   CustomerOccupation   2399 non-null   object \n",
            "dtypes: float64(4), int64(1), object(3)\n",
            "memory usage: 150.1+ KB\n"
          ]
        }
      ]
    },
    {
      "cell_type": "code",
      "source": [
        "# Cek missing values\n",
        "print(\"\\nMissing values per fitur:\")\n",
        "print(df.isnull().sum())"
      ],
      "metadata": {
        "colab": {
          "base_uri": "https://localhost:8080/"
        },
        "id": "zRcxqhmpWKD9",
        "outputId": "7068add8-2def-47c0-ac95-a5df292e3fdd"
      },
      "execution_count": 294,
      "outputs": [
        {
          "output_type": "stream",
          "name": "stdout",
          "text": [
            "\n",
            "Missing values per fitur:\n",
            "TransactionAmount      0\n",
            "CustomerAge            0\n",
            "TransactionDuration    0\n",
            "AccountBalance         0\n",
            "Cluster                0\n",
            "TransactionType        0\n",
            "Channel                0\n",
            "CustomerOccupation     0\n",
            "dtype: int64\n"
          ]
        }
      ]
    },
    {
      "cell_type": "markdown",
      "source": [
        "# **3. Data Splitting**"
      ],
      "metadata": {
        "id": "KkPem5eWL2UP"
      }
    },
    {
      "cell_type": "markdown",
      "source": [
        "Tahap Data Splitting bertujuan untuk memisahkan dataset menjadi dua bagian: data latih (training set) dan data uji (test set)."
      ],
      "metadata": {
        "id": "YYj1rl_JNI9Y"
      }
    },
    {
      "cell_type": "code",
      "source": [
        "# Splitting data\n",
        "X = df.drop(\"Cluster\", axis=1)\n",
        "y = df[\"Cluster\"]"
      ],
      "metadata": {
        "id": "w23oUQtQzlRx"
      },
      "execution_count": 295,
      "outputs": []
    },
    {
      "cell_type": "code",
      "source": [
        "categorical_cols = X.select_dtypes(include=['object', 'category']).columns.tolist()\n",
        "\n",
        "# Encoding untuk fitur kategorikal\n",
        "label_encoders = {}\n",
        "for col in categorical_cols:\n",
        "    le = LabelEncoder()\n",
        "    X[col] = le.fit_transform(X[col])\n",
        "    label_encoders[col] = le"
      ],
      "metadata": {
        "id": "W_XO0G5PzWV_"
      },
      "execution_count": 296,
      "outputs": []
    },
    {
      "cell_type": "code",
      "source": [
        "# Menentukan kolom numerik & kategorikal berdasarkan X\n",
        "numerical_cols = X.select_dtypes(include=['int64', 'float64']).columns.tolist()\n",
        "\n",
        "# Buat instance MinMaxScaler untuk normalisasi kolom numerik\n",
        "scaler = MinMaxScaler()\n",
        "X[numerical_cols] = scaler.fit_transform(X[numerical_cols])\n",
        "\n",
        "# Split data menjadi set pelatihan dan set uji (80% training, 20% testing)\n",
        "X_train, X_test, y_train, y_test = train_test_split(X, y, test_size=0.2, random_state=42, stratify=y)\n",
        "\n",
        "# Tampilkan bentuk set pelatihan dan set uji untuk memastikan split\n",
        "print(f\"Training set shape: X_train={X_train.shape}, y_train={y_train.shape}\")\n",
        "print(f\"Test set shape: X_test={X_test.shape}, y_test={y_test.shape}\")"
      ],
      "metadata": {
        "id": "OubAW-7ONKVj",
        "colab": {
          "base_uri": "https://localhost:8080/"
        },
        "outputId": "3bbe043b-1a41-42dd-c1ca-685dc14b6fb6"
      },
      "execution_count": 297,
      "outputs": [
        {
          "output_type": "stream",
          "name": "stdout",
          "text": [
            "Training set shape: X_train=(1919, 7), y_train=(1919,)\n",
            "Test set shape: X_test=(480, 7), y_test=(480,)\n"
          ]
        }
      ]
    },
    {
      "cell_type": "code",
      "source": [
        "X_train.shape, X_test.shape, y_train.value_counts(), y_test.value_counts()"
      ],
      "metadata": {
        "colab": {
          "base_uri": "https://localhost:8080/"
        },
        "id": "nJQ4xtn3xrwp",
        "outputId": "d568ea53-3cab-42ec-bbf1-7857662bfc6d"
      },
      "execution_count": 298,
      "outputs": [
        {
          "output_type": "execute_result",
          "data": {
            "text/plain": [
              "((1919, 7),\n",
              " (480, 7),\n",
              " Cluster\n",
              " 2    576\n",
              " 0    474\n",
              " 1    432\n",
              " 3    194\n",
              " 4    186\n",
              " 5     57\n",
              " Name: count, dtype: int64,\n",
              " Cluster\n",
              " 2    144\n",
              " 0    118\n",
              " 1    108\n",
              " 3     49\n",
              " 4     47\n",
              " 5     14\n",
              " Name: count, dtype: int64)"
            ]
          },
          "metadata": {},
          "execution_count": 298
        }
      ]
    },
    {
      "cell_type": "code",
      "source": [
        "# ======== Terapkan SMOTE untuk menyeimbangkan kelas di data latih ========\n",
        "smote = SMOTE(random_state=42)\n",
        "X_train_resampled, y_train_resampled = smote.fit_resample(X_train, y_train)\n",
        "\n",
        "# Menampilkan distribusi kelas setelah SMOTE\n",
        "print(\"Distribusi kelas setelah SMOTE:\", y_train_resampled.value_counts())"
      ],
      "metadata": {
        "colab": {
          "base_uri": "https://localhost:8080/"
        },
        "id": "8nDzbxZ6y4ic",
        "outputId": "26fee51b-b87b-442f-8526-592b777cfd7f"
      },
      "execution_count": 299,
      "outputs": [
        {
          "output_type": "stream",
          "name": "stdout",
          "text": [
            "Distribusi kelas setelah SMOTE: Cluster\n",
            "0    576\n",
            "3    576\n",
            "2    576\n",
            "1    576\n",
            "5    576\n",
            "4    576\n",
            "Name: count, dtype: int64\n"
          ]
        }
      ]
    },
    {
      "cell_type": "markdown",
      "source": [
        "# **4. Membangun Model Klasifikasi**\n"
      ],
      "metadata": {
        "id": "IVPbB03CMhTT"
      }
    },
    {
      "cell_type": "markdown",
      "source": [
        "## **a. Membangun Model Klasifikasi**"
      ],
      "metadata": {
        "id": "Ned1pL9zMmBK"
      }
    },
    {
      "cell_type": "markdown",
      "source": [
        "Setelah memilih algoritma klasifikasi yang sesuai, langkah selanjutnya adalah melatih model menggunakan data latih.\n",
        "\n",
        "Berikut adalah rekomendasi tahapannya.\n",
        "1. Pilih algoritma klasifikasi yang sesuai, seperti Logistic Regression, Decision Tree, Random Forest, atau K-Nearest Neighbors (KNN).\n",
        "2. Latih model menggunakan data latih."
      ],
      "metadata": {
        "id": "WAWzPOE4Nkti"
      }
    },
    {
      "cell_type": "code",
      "source": [
        "# ======== Bangun dan Latih Model ========\n",
        "# Menggunakan model Random Forest\n",
        "rf = RandomForestClassifier(random_state=42)\n",
        "rf.fit(X_train_resampled, y_train_resampled)\n",
        "\n",
        "# Prediksi pada data uji\n",
        "y_pred = rf.predict(X_test)\n",
        "\n",
        "# Evaluasi hasil\n",
        "print(f\"Akurasi: {accuracy_score(y_test, y_pred):.4f}\")\n",
        "print(f\"F1-Score: {f1_score(y_test, y_pred, average='macro'):.4f}\")"
      ],
      "metadata": {
        "colab": {
          "base_uri": "https://localhost:8080/"
        },
        "id": "JAMBw5ZjlLsg",
        "outputId": "0f1bc2b7-fe84-41a5-9259-df151954d647"
      },
      "execution_count": 300,
      "outputs": [
        {
          "output_type": "stream",
          "name": "stdout",
          "text": [
            "Akurasi: 1.0000\n",
            "F1-Score: 1.0000\n"
          ]
        }
      ]
    },
    {
      "cell_type": "code",
      "source": [
        "# ======= Latih dengan Logistic Regression =======\n",
        "lr = LogisticRegression(random_state=42)\n",
        "lr.fit(X_train_resampled, y_train_resampled)\n",
        "\n",
        "# Prediksi pada data uji\n",
        "y_pred_lr = lr.predict(X_test)\n",
        "\n",
        "# Evaluasi Logistic Regression\n",
        "print(f\"Akurasi Logistic Regression: {accuracy_score(y_test, y_pred_lr):.4f}\")\n",
        "print(f\"F1-Score Logistic Regression: {f1_score(y_test, y_pred_lr, average='macro'):.4f}\")"
      ],
      "metadata": {
        "colab": {
          "base_uri": "https://localhost:8080/"
        },
        "id": "iyujhGZQlTR0",
        "outputId": "0e61b00c-f0b1-45e6-b610-104827a8b075"
      },
      "execution_count": 301,
      "outputs": [
        {
          "output_type": "stream",
          "name": "stdout",
          "text": [
            "Akurasi Logistic Regression: 1.0000\n",
            "F1-Score Logistic Regression: 1.0000\n"
          ]
        }
      ]
    },
    {
      "cell_type": "code",
      "source": [
        "# # Bagian 1: Pelatihan Model\n",
        "# rf = RandomForestClassifier().fit(X_train, y_train)  # Random Forest\n",
        "# lr = LogisticRegression().fit(X_train, y_train)  # Logistic Regression\n",
        "\n",
        "# print(\"Model training selesai.\")"
      ],
      "metadata": {
        "id": "4JYxBe87NLDk"
      },
      "execution_count": 302,
      "outputs": []
    },
    {
      "cell_type": "markdown",
      "source": [
        "### Random Forest\n",
        "\n",
        "**Random Forest** adalah algoritma **ensemble learning** yang terdiri dari sekumpulan pohon keputusan (decision trees) yang bekerja secara bersama-sama untuk menghasilkan prediksi yang lebih akurat. Setiap pohon keputusan dibangun dengan cara memilih subset acak dari data latih dan fitur yang ada, kemudian hasil prediksi dari setiap pohon digabungkan menggunakan voting (untuk klasifikasi) atau rata-rata (untuk regresi). Hal ini membuat Random Forest lebih robust dan mampu mengatasi overfitting yang biasa terjadi pada pohon keputusan tunggal.\n",
        "\n",
        "### Logistic Regression\n",
        "\n",
        "**Logistic Regression** adalah algoritma klasifikasi yang digunakan untuk memprediksi probabilitas dari dua kelas (binary classification) dengan menggunakan fungsi logistik (sigmoid). Model ini membangun hubungan linier antara fitur input (X) dan hasil output (y), dan hasil prediksi akhirnya diubah menjadi probabilitas antara 0 dan 1. Dengan menggunakan threshold (biasanya 0.5), model ini mengklasifikasikan output ke dalam dua kelas yang berbeda.\n",
        "\n",
        "### Alasan Memilih Kedua Algoritma\n",
        "\n",
        "1. **Random Forest**: Dikenal karena kemampuannya untuk menangani dataset dengan banyak fitur dan hubungan yang kompleks. Dataset ini mungkin memiliki interaksi yang kompleks antara fitur numerik dan kategorikal, sehingga Random Forest cocok karena dapat menangani berbagai jenis data tanpa memerlukan asumsi linearitas.\n",
        "\n",
        "2. **Logistic Regression**: Dipilih karena kesederhanaannya dan interpretabilitasnya. Jika hubungan antara fitur dan target relatif linier, Logistic Regression dapat memberikan hasil yang baik dan mudah untuk dipahami. Ini juga digunakan sebagai baseline model untuk membandingkan dengan model yang lebih kompleks.\n",
        "\n",
        "### Kaitannya dengan Dataset\n",
        "\n",
        "Dataset yang digunakan memiliki fitur numerik dan kategorikal. **Random Forest** cocok untuk dataset seperti ini karena dapat menangani fitur numerik dan kategorikal secara bersamaan, sementara **Logistic Regression** memerlukan pengolahan fitur kategorikal melalui encoding sebelum dapat digunakan.\n"
      ],
      "metadata": {
        "id": "seYoHNY3XU1y"
      }
    },
    {
      "cell_type": "markdown",
      "source": [
        "## **b. Evaluasi Model Klasifikasi**"
      ],
      "metadata": {
        "id": "ergzChZFEL-O"
      }
    },
    {
      "cell_type": "markdown",
      "source": [
        "Berikut adalah **rekomendasi** tahapannya.\n",
        "1. Lakukan prediksi menggunakan data uji.\n",
        "2. Hitung metrik evaluasi seperti Accuracy dan F1-Score (Opsional: Precision dan Recall).\n",
        "3. Buat confusion matrix untuk melihat detail prediksi benar dan salah."
      ],
      "metadata": {
        "id": "zOm68u-7NpLT"
      }
    },
    {
      "cell_type": "code",
      "source": [
        "# ======== Random Forest ========\n",
        "# Melakukan prediksi pada data uji\n",
        "rf_y_pred = rf.predict(X_test)\n",
        "\n",
        "# Menghitung metrik evaluasi\n",
        "rf_accuracy = accuracy_score(y_test, rf_y_pred)\n",
        "rf_f1 = f1_score(y_test, rf_y_pred, average='macro')  # gunakan 'macro' jika multiclass\n",
        "rf_precision = precision_score(y_test, rf_y_pred, average='macro')\n",
        "rf_recall = recall_score(y_test, rf_y_pred, average='macro')\n",
        "\n",
        "# Menampilkan hasil evaluasi\n",
        "print(\"=== Evaluasi Random Forest ===\")\n",
        "print(f\"Akurasi      : {rf_accuracy:.4f}\")\n",
        "print(f\"F1-Score     : {rf_f1:.4f}\")\n",
        "print(f\"Precision    : {rf_precision:.4f}\")\n",
        "print(f\"Recall       : {rf_recall:.4f}\")\n"
      ],
      "metadata": {
        "id": "tMq4QAssNLip",
        "colab": {
          "base_uri": "https://localhost:8080/"
        },
        "outputId": "373c9c3e-00f7-44dc-99ea-773476bdf126"
      },
      "execution_count": 303,
      "outputs": [
        {
          "output_type": "stream",
          "name": "stdout",
          "text": [
            "=== Evaluasi Random Forest ===\n",
            "Akurasi      : 1.0000\n",
            "F1-Score     : 1.0000\n",
            "Precision    : 1.0000\n",
            "Recall       : 1.0000\n"
          ]
        }
      ]
    },
    {
      "cell_type": "code",
      "source": [
        "# ======== Logistic Regression ========\n",
        "# Melakukan prediksi pada data uji\n",
        "lr_y_pred = lr.predict(X_test)\n",
        "\n",
        "# Menghitung metrik evaluasi\n",
        "lr_accuracy = accuracy_score(y_test, lr_y_pred)\n",
        "lr_f1 = f1_score(y_test, lr_y_pred, average='macro')\n",
        "lr_precision = precision_score(y_test, lr_y_pred, average='macro')\n",
        "lr_recall = recall_score(y_test, lr_y_pred, average='macro')\n",
        "\n",
        "# Menampilkan hasil evaluasi\n",
        "print(\"=== Evaluasi Logistic Regression ===\")\n",
        "print(f\"Akurasi      : {lr_accuracy:.4f}\")\n",
        "print(f\"F1-Score     : {lr_f1:.4f}\")\n",
        "print(f\"Precision    : {lr_precision:.4f}\")\n",
        "print(f\"Recall       : {lr_recall:.4f}\")"
      ],
      "metadata": {
        "colab": {
          "base_uri": "https://localhost:8080/"
        },
        "id": "x4_aZW8d3_Eg",
        "outputId": "c67456e0-3df5-40d2-c09c-a9852c71024e"
      },
      "execution_count": 304,
      "outputs": [
        {
          "output_type": "stream",
          "name": "stdout",
          "text": [
            "=== Evaluasi Logistic Regression ===\n",
            "Akurasi      : 1.0000\n",
            "F1-Score     : 1.0000\n",
            "Precision    : 1.0000\n",
            "Recall       : 1.0000\n"
          ]
        }
      ]
    },
    {
      "cell_type": "code",
      "source": [
        "# ======== Random Forest ========\n",
        "# Confusion Matrix\n",
        "cm_rf = confusion_matrix(y_test, rf_y_pred)\n",
        "disp_rf = ConfusionMatrixDisplay(confusion_matrix=cm_rf)\n",
        "disp_rf.plot()\n",
        "\n",
        "# ======== Logistic Regression ========\n",
        "# Confusion Matrix\n",
        "cm_lr = confusion_matrix(y_test, lr_y_pred)\n",
        "disp_lr = ConfusionMatrixDisplay(confusion_matrix=cm_lr)\n",
        "disp_lr.plot()"
      ],
      "metadata": {
        "colab": {
          "base_uri": "https://localhost:8080/",
          "height": 899
        },
        "id": "L2hmesPO30xr",
        "outputId": "eb203f48-2411-4fef-bece-d028556b988d"
      },
      "execution_count": 305,
      "outputs": [
        {
          "output_type": "execute_result",
          "data": {
            "text/plain": [
              "<sklearn.metrics._plot.confusion_matrix.ConfusionMatrixDisplay at 0x790ae8b92ed0>"
            ]
          },
          "metadata": {},
          "execution_count": 305
        },
        {
          "output_type": "display_data",
          "data": {
            "text/plain": [
              "<Figure size 640x480 with 2 Axes>"
            ],
            "image/png": "[encoded data removed]"
          },
          "metadata": {}
        },
        {
          "output_type": "display_data",
          "data": {
            "text/plain": [
              "<Figure size 640x480 with 2 Axes>"
            ],
            "image/png": "[encoded data removed]"
          },
          "metadata": {}
        }
      ]
    },
    {
      "cell_type": "code",
      "source": [
        "# Membuat DataFrame untuk menampilkan perbandingan evaluasi kedua model\n",
        "evaluation_data = {\n",
        "    \"Model\": [\"Random Forest\", \"Logistic Regression\"],\n",
        "    \"Accuracy\": [rf_accuracy, lr_accuracy],\n",
        "    \"F1-Score\": [rf_f1, lr_f1],\n",
        "    \"Precision\": [rf_precision, lr_precision],\n",
        "    \"Recall\": [rf_recall, lr_recall]\n",
        "}\n",
        "\n",
        "\n",
        "evaluation_df = pd.DataFrame(evaluation_data)\n",
        "evaluation_df"
      ],
      "metadata": {
        "colab": {
          "base_uri": "https://localhost:8080/",
          "height": 125
        },
        "id": "2buXcDzj5jyH",
        "outputId": "48644f4a-9dc7-4016-d161-a66ae8c52264"
      },
      "execution_count": 306,
      "outputs": [
        {
          "output_type": "execute_result",
          "data": {
            "text/plain": [
              "                 Model  Accuracy  F1-Score  Precision  Recall\n",
              "0        Random Forest       1.0       1.0        1.0     1.0\n",
              "1  Logistic Regression       1.0       1.0        1.0     1.0"
            ],
            "text/html": [
              "\n",
              "  <div id=\"df-d324e56f-bbb5-4947-8817-9df13e0530e4\" class=\"colab-df-container\">\n",
              "    <div>\n",
              "<style scoped>\n",
              "    .dataframe tbody tr th:only-of-type {\n",
              "        vertical-align: middle;\n",
              "    }\n",
              "\n",
              "    .dataframe tbody tr th {\n",
              "        vertical-align: top;\n",
              "    }\n",
              "\n",
              "    .dataframe thead th {\n",
              "        text-align: right;\n",
              "    }\n",
              "</style>\n",
              "<table border=\"1\" class=\"dataframe\">\n",
              "  <thead>\n",
              "    <tr style=\"text-align: right;\">\n",
              "      <th></th>\n",
              "      <th>Model</th>\n",
              "      <th>Accuracy</th>\n",
              "      <th>F1-Score</th>\n",
              "      <th>Precision</th>\n",
              "      <th>Recall</th>\n",
              "    </tr>\n",
              "  </thead>\n",
              "  <tbody>\n",
              "    <tr>\n",
              "      <th>0</th>\n",
              "      <td>Random Forest</td>\n",
              "      <td>1.0</td>\n",
              "      <td>1.0</td>\n",
              "      <td>1.0</td>\n",
              "      <td>1.0</td>\n",
              "    </tr>\n",
              "    <tr>\n",
              "      <th>1</th>\n",
              "      <td>Logistic Regression</td>\n",
              "      <td>1.0</td>\n",
              "      <td>1.0</td>\n",
              "      <td>1.0</td>\n",
              "      <td>1.0</td>\n",
              "    </tr>\n",
              "  </tbody>\n",
              "</table>\n",
              "</div>\n",
              "    <div class=\"colab-df-buttons\">\n",
              "\n",
              "  <div class=\"colab-df-container\">\n",
              "    <button class=\"colab-df-convert\" onclick=\"convertToInteractive('df-d324e56f-bbb5-4947-8817-9df13e0530e4')\"\n",
              "            title=\"Convert this dataframe to an interactive table.\"\n",
              "            style=\"display:none;\">\n",
              "\n",
              "  <svg xmlns=\"http://www.w3.org/2000/svg\" height=\"24px\" viewBox=\"0 -960 960 960\">\n",
              "    <path d=\"M120-120v-720h720v720H120Zm60-500h600v-160H180v160Zm220 220h160v-160H400v160Zm0 220h160v-160H400v160ZM180-400h160v-160H180v160Zm440 0h160v-160H620v160ZM180-180h160v-160H180v160Zm440 0h160v-160H620v160Z\"/>\n",
              "  </svg>\n",
              "    </button>\n",
              "\n",
              "  <style>\n",
              "    .colab-df-container {\n",
              "      display:flex;\n",
              "      gap: 12px;\n",
              "    }\n",
              "\n",
              "    .colab-df-convert {\n",
              "      background-color: #E8F0FE;\n",
              "      border: none;\n",
              "      border-radius: 50%;\n",
              "      cursor: pointer;\n",
              "      display: none;\n",
              "      fill: #1967D2;\n",
              "      height: 32px;\n",
              "      padding: 0 0 0 0;\n",
              "      width: 32px;\n",
              "    }\n",
              "\n",
              "    .colab-df-convert:hover {\n",
              "      background-color: #E2EBFA;\n",
              "      box-shadow: 0px 1px 2px rgba(60, 64, 67, 0.3), 0px 1px 3px 1px rgba(60, 64, 67, 0.15);\n",
              "      fill: #174EA6;\n",
              "    }\n",
              "\n",
              "    .colab-df-buttons div {\n",
              "      margin-bottom: 4px;\n",
              "    }\n",
              "\n",
              "    [theme=dark] .colab-df-convert {\n",
              "      background-color: #3B4455;\n",
              "      fill: #D2E3FC;\n",
              "    }\n",
              "\n",
              "    [theme=dark] .colab-df-convert:hover {\n",
              "      background-color: #434B5C;\n",
              "      box-shadow: 0px 1px 3px 1px rgba(0, 0, 0, 0.15);\n",
              "      filter: drop-shadow(0px 1px 2px rgba(0, 0, 0, 0.3));\n",
              "      fill: #FFFFFF;\n",
              "    }\n",
              "  </style>\n",
              "\n",
              "    <script>\n",
              "      const buttonEl =\n",
              "        document.querySelector('#df-d324e56f-bbb5-4947-8817-9df13e0530e4 button.colab-df-convert');\n",
              "      buttonEl.style.display =\n",
              "        google.colab.kernel.accessAllowed ? 'block' : 'none';\n",
              "\n",
              "      async function convertToInteractive(key) {\n",
              "        const element = document.querySelector('#df-d324e56f-bbb5-4947-8817-9df13e0530e4');\n",
              "        const dataTable =\n",
              "          await google.colab.kernel.invokeFunction('convertToInteractive',\n",
              "                                                    [key], {});\n",
              "        if (!dataTable) return;\n",
              "\n",
              "        const docLinkHtml = 'Like what you see? Visit the ' +\n",
              "          '<a target=\"_blank\" href=https://colab.research.google.com/notebooks/data_table.ipynb>data table notebook</a>'\n",
              "          + ' to learn more about interactive tables.';\n",
              "        element.innerHTML = '';\n",
              "        dataTable['output_type'] = 'display_data';\n",
              "        await google.colab.output.renderOutput(dataTable, element);\n",
              "        const docLink = document.createElement('div');\n",
              "        docLink.innerHTML = docLinkHtml;\n",
              "        element.appendChild(docLink);\n",
              "      }\n",
              "    </script>\n",
              "  </div>\n",
              "\n",
              "\n",
              "<div id=\"df-1190d488-c07d-4d10-a7e6-7a8aba4911ca\">\n",
              "  <button class=\"colab-df-quickchart\" onclick=\"quickchart('df-1190d488-c07d-4d10-a7e6-7a8aba4911ca')\"\n",
              "            title=\"Suggest charts\"\n",
              "            style=\"display:none;\">\n",
              "\n",
              "<svg xmlns=\"http://www.w3.org/2000/svg\" height=\"24px\"viewBox=\"0 0 24 24\"\n",
              "     width=\"24px\">\n",
              "    <g>\n",
              "        <path d=\"M19 3H5c-1.1 0-2 .9-2 2v14c0 1.1.9 2 2 2h14c1.1 0 2-.9 2-2V5c0-1.1-.9-2-2-2zM9 17H7v-7h2v7zm4 0h-2V7h2v10zm4 0h-2v-4h2v4z\"/>\n",
              "    </g>\n",
              "</svg>\n",
              "  </button>\n",
              "\n",
              "<style>\n",
              "  .colab-df-quickchart {\n",
              "      --bg-color: #E8F0FE;\n",
              "      --fill-color: #1967D2;\n",
              "      --hover-bg-color: #E2EBFA;\n",
              "      --hover-fill-color: #174EA6;\n",
              "      --disabled-fill-color: #AAA;\n",
              "      --disabled-bg-color: #DDD;\n",
              "  }\n",
              "\n",
              "  [theme=dark] .colab-df-quickchart {\n",
              "      --bg-color: #3B4455;\n",
              "      --fill-color: #D2E3FC;\n",
              "      --hover-bg-color: #434B5C;\n",
              "      --hover-fill-color: #FFFFFF;\n",
              "      --disabled-bg-color: #3B4455;\n",
              "      --disabled-fill-color: #666;\n",
              "  }\n",
              "\n",
              "  .colab-df-quickchart {\n",
              "    background-color: var(--bg-color);\n",
              "    border: none;\n",
              "    border-radius: 50%;\n",
              "    cursor: pointer;\n",
              "    display: none;\n",
              "    fill: var(--fill-color);\n",
              "    height: 32px;\n",
              "    padding: 0;\n",
              "    width: 32px;\n",
              "  }\n",
              "\n",
              "  .colab-df-quickchart:hover {\n",
              "    background-color: var(--hover-bg-color);\n",
              "    box-shadow: 0 1px 2px rgba(60, 64, 67, 0.3), 0 1px 3px 1px rgba(60, 64, 67, 0.15);\n",
              "    fill: var(--button-hover-fill-color);\n",
              "  }\n",
              "\n",
              "  .colab-df-quickchart-complete:disabled,\n",
              "  .colab-df-quickchart-complete:disabled:hover {\n",
              "    background-color: var(--disabled-bg-color);\n",
              "    fill: var(--disabled-fill-color);\n",
              "    box-shadow: none;\n",
              "  }\n",
              "\n",
              "  .colab-df-spinner {\n",
              "    border: 2px solid var(--fill-color);\n",
              "    border-color: transparent;\n",
              "    border-bottom-color: var(--fill-color);\n",
              "    animation:\n",
              "      spin 1s steps(1) infinite;\n",
              "  }\n",
              "\n",
              "  @keyframes spin {\n",
              "    0% {\n",
              "      border-color: transparent;\n",
              "      border-bottom-color: var(--fill-color);\n",
              "      border-left-color: var(--fill-color);\n",
              "    }\n",
              "    20% {\n",
              "      border-color: transparent;\n",
              "      border-left-color: var(--fill-color);\n",
              "      border-top-color: var(--fill-color);\n",
              "    }\n",
              "    30% {\n",
              "      border-color: transparent;\n",
              "      border-left-color: var(--fill-color);\n",
              "      border-top-color: var(--fill-color);\n",
              "      border-right-color: var(--fill-color);\n",
              "    }\n",
              "    40% {\n",
              "      border-color: transparent;\n",
              "      border-right-color: var(--fill-color);\n",
              "      border-top-color: var(--fill-color);\n",
              "    }\n",
              "    60% {\n",
              "      border-color: transparent;\n",
              "      border-right-color: var(--fill-color);\n",
              "    }\n",
              "    80% {\n",
              "      border-color: transparent;\n",
              "      border-right-color: var(--fill-color);\n",
              "      border-bottom-color: var(--fill-color);\n",
              "    }\n",
              "    90% {\n",
              "      border-color: transparent;\n",
              "      border-bottom-color: var(--fill-color);\n",
              "    }\n",
              "  }\n",
              "</style>\n",
              "\n",
              "  <script>\n",
              "    async function quickchart(key) {\n",
              "      const quickchartButtonEl =\n",
              "        document.querySelector('#' + key + ' button');\n",
              "      quickchartButtonEl.disabled = true;  // To prevent multiple clicks.\n",
              "      quickchartButtonEl.classList.add('colab-df-spinner');\n",
              "      try {\n",
              "        const charts = await google.colab.kernel.invokeFunction(\n",
              "            'suggestCharts', [key], {});\n",
              "      } catch (error) {\n",
              "        console.error('Error during call to suggestCharts:', error);\n",
              "      }\n",
              "      quickchartButtonEl.classList.remove('colab-df-spinner');\n",
              "      quickchartButtonEl.classList.add('colab-df-quickchart-complete');\n",
              "    }\n",
              "    (() => {\n",
              "      let quickchartButtonEl =\n",
              "        document.querySelector('#df-1190d488-c07d-4d10-a7e6-7a8aba4911ca button');\n",
              "      quickchartButtonEl.style.display =\n",
              "        google.colab.kernel.accessAllowed ? 'block' : 'none';\n",
              "    })();\n",
              "  </script>\n",
              "</div>\n",
              "\n",
              "  <div id=\"id_c1307cb5-b612-4803-a186-3419e42e7d0a\">\n",
              "    <style>\n",
              "      .colab-df-generate {\n",
              "        background-color: #E8F0FE;\n",
              "        border: none;\n",
              "        border-radius: 50%;\n",
              "        cursor: pointer;\n",
              "        display: none;\n",
              "        fill: #1967D2;\n",
              "        height: 32px;\n",
              "        padding: 0 0 0 0;\n",
              "        width: 32px;\n",
              "      }\n",
              "\n",
              "      .colab-df-generate:hover {\n",
              "        background-color: #E2EBFA;\n",
              "        box-shadow: 0px 1px 2px rgba(60, 64, 67, 0.3), 0px 1px 3px 1px rgba(60, 64, 67, 0.15);\n",
              "        fill: #174EA6;\n",
              "      }\n",
              "\n",
              "      [theme=dark] .colab-df-generate {\n",
              "        background-color: #3B4455;\n",
              "        fill: #D2E3FC;\n",
              "      }\n",
              "\n",
              "      [theme=dark] .colab-df-generate:hover {\n",
              "        background-color: #434B5C;\n",
              "        box-shadow: 0px 1px 3px 1px rgba(0, 0, 0, 0.15);\n",
              "        filter: drop-shadow(0px 1px 2px rgba(0, 0, 0, 0.3));\n",
              "        fill: #FFFFFF;\n",
              "      }\n",
              "    </style>\n",
              "    <button class=\"colab-df-generate\" onclick=\"generateWithVariable('evaluation_df')\"\n",
              "            title=\"Generate code using this dataframe.\"\n",
              "            style=\"display:none;\">\n",
              "\n",
              "  <svg xmlns=\"http://www.w3.org/2000/svg\" height=\"24px\"viewBox=\"0 0 24 24\"\n",
              "       width=\"24px\">\n",
              "    <path d=\"M7,19H8.4L18.45,9,17,7.55,7,17.6ZM5,21V16.75L18.45,3.32a2,2,0,0,1,2.83,0l1.4,1.43a1.91,1.91,0,0,1,.58,1.4,1.91,1.91,0,0,1-.58,1.4L9.25,21ZM18.45,9,17,7.55Zm-12,3A5.31,5.31,0,0,0,4.9,8.1,5.31,5.31,0,0,0,1,6.5,5.31,5.31,0,0,0,4.9,4.9,5.31,5.31,0,0,0,6.5,1,5.31,5.31,0,0,0,8.1,4.9,5.31,5.31,0,0,0,12,6.5,5.46,5.46,0,0,0,6.5,12Z\"/>\n",
              "  </svg>\n",
              "    </button>\n",
              "    <script>\n",
              "      (() => {\n",
              "      const buttonEl =\n",
              "        document.querySelector('#id_c1307cb5-b612-4803-a186-3419e42e7d0a button.colab-df-generate');\n",
              "      buttonEl.style.display =\n",
              "        google.colab.kernel.accessAllowed ? 'block' : 'none';\n",
              "\n",
              "      buttonEl.onclick = () => {\n",
              "        google.colab.notebook.generateWithVariable('evaluation_df');\n",
              "      }\n",
              "      })();\n",
              "    </script>\n",
              "  </div>\n",
              "\n",
              "    </div>\n",
              "  </div>\n"
            ],
            "application/vnd.google.colaboratory.intrinsic+json": {
              "type": "dataframe",
              "variable_name": "evaluation_df",
              "summary": "{\n  \"name\": \"evaluation_df\",\n  \"rows\": 2,\n  \"fields\": [\n    {\n      \"column\": \"Model\",\n      \"properties\": {\n        \"dtype\": \"string\",\n        \"num_unique_values\": 2,\n        \"samples\": [\n          \"Logistic Regression\",\n          \"Random Forest\"\n        ],\n        \"semantic_type\": \"\",\n        \"description\": \"\"\n      }\n    },\n    {\n      \"column\": \"Accuracy\",\n      \"properties\": {\n        \"dtype\": \"number\",\n        \"std\": 0.0,\n        \"min\": 1.0,\n        \"max\": 1.0,\n        \"num_unique_values\": 1,\n        \"samples\": [\n          1.0\n        ],\n        \"semantic_type\": \"\",\n        \"description\": \"\"\n      }\n    },\n    {\n      \"column\": \"F1-Score\",\n      \"properties\": {\n        \"dtype\": \"number\",\n        \"std\": 0.0,\n        \"min\": 1.0,\n        \"max\": 1.0,\n        \"num_unique_values\": 1,\n        \"samples\": [\n          1.0\n        ],\n        \"semantic_type\": \"\",\n        \"description\": \"\"\n      }\n    },\n    {\n      \"column\": \"Precision\",\n      \"properties\": {\n        \"dtype\": \"number\",\n        \"std\": 0.0,\n        \"min\": 1.0,\n        \"max\": 1.0,\n        \"num_unique_values\": 1,\n        \"samples\": [\n          1.0\n        ],\n        \"semantic_type\": \"\",\n        \"description\": \"\"\n      }\n    },\n    {\n      \"column\": \"Recall\",\n      \"properties\": {\n        \"dtype\": \"number\",\n        \"std\": 0.0,\n        \"min\": 1.0,\n        \"max\": 1.0,\n        \"num_unique_values\": 1,\n        \"samples\": [\n          1.0\n        ],\n        \"semantic_type\": \"\",\n        \"description\": \"\"\n      }\n    }\n  ]\n}"
            }
          },
          "metadata": {},
          "execution_count": 306
        }
      ]
    },
    {
      "cell_type": "markdown",
      "source": [
        "### **Confusion Matrix**\n",
        "\n",
        "Pada kedua model **Random Forest** dan **Logistic Regression**, kita dapat melihat bahwa diagonal utama (dari kiri atas ke kanan bawah) berisi nilai yang bukan nol, yang berarti semua prediksi dilakukan dengan benar. Diagonal utama ini menunjukkan bahwa model berhasil mengklasifikasikan semua kelas dengan sempurna, tanpa ada kesalahan klasifikasi. Tidak ada nilai yang muncul di luar diagonal utama, menandakan bahwa kedua model tidak melakukan kesalahan dalam klasifikasi kelas-kelas tersebut.\n",
        "\n",
        "### **Analisis Model**\n",
        "\n",
        "Kedua model, **Random Forest** dan **Logistic Regression**, menunjukkan performa yang sangat baik dengan **Akurasi** dan **F1-Score** 100%. Hal ini berarti bahwa kedua model dapat memprediksi semua data uji dengan benar, tanpa ada kesalahan prediksi.\n",
        "\n",
        "### **Kesimpulan**\n",
        "\n",
        "1. **Akurasi 100%**:\n",
        "   - Akurasi yang sangat tinggi ini menunjukkan bahwa model mungkin mengalami **overfitting**. Terutama pada **Logistic Regression**, yang biasanya tidak mencapai performa sempurna pada dataset nyata. Hal ini menunjukkan bahwa data uji mungkin memiliki pola yang sangat mirip dengan data latih, sehingga model bisa \"mengingat\" data tersebut dengan sempurna.\n",
        "\n",
        "2. **Performa ini Tidak Realistis**:\n",
        "   - Meskipun hasil ini sangat baik pada data uji, ini mungkin tidak realistis di dunia nyata. Model harus diuji dengan data yang benar-benar baru, yang belum pernah dilihat sebelumnya, agar bisa benar-benar mengukur kemampuan generalisasi model.\n",
        "\n",
        "3. **Untuk Menghindari Overfitting**:\n",
        "   - Tahap selanjutnya adalah melakukan beberapa langkah untuk mencegah overfitting, seperti:\n",
        "     - **Pengurangan Fitur** atau **regularisasi pada Logistic Regression**.\n",
        "     - **Penyesuaian Hyperparameter pada Random Forest**, misalnya mengurangi kedalaman pohon atau melakukan pengaturan lain yang dapat meningkatkan generalisasi model.\n",
        "     "
      ],
      "metadata": {
        "id": "H4_9OwrsXZlz"
      }
    },
    {
      "cell_type": "markdown",
      "source": [
        "## **c. Tuning Model Klasifikasi (Optional)**"
      ],
      "metadata": {
        "id": "ph9yIYDXEPuB"
      }
    },
    {
      "cell_type": "markdown",
      "source": [
        "Gunakan GridSearchCV, RandomizedSearchCV, atau metode lainnya untuk mencari kombinasi hyperparameter terbaik"
      ],
      "metadata": {
        "id": "-Bikx3LINv5e"
      }
    },
    {
      "cell_type": "code",
      "source": [
        "# ======== Tuning Random Forest ========\n",
        "rf = RandomForestClassifier(random_state=42)\n",
        "\n",
        "# Mencatat waktu mulai eksekusi\n",
        "start_time = time.time()\n",
        "\n",
        "# Definisikan parameter grid untuk Grid Search\n",
        "param_grid = {\n",
        "    'n_estimators': [100, 200, 300],  # Jumlah pohon dalam hutan\n",
        "    'max_depth': [3, 5, 7, 9],         # Kedalaman maksimum pohon\n",
        "    'min_samples_split': [2, 5, 10],   # Jumlah sampel minimum untuk membagi simpul\n",
        "    'min_samples_leaf': [1, 2, 4],     # Jumlah sampel minimum di daun pohon\n",
        "    'bootstrap': [True, False]         # Apakah menggunakan bootstrap sampling\n",
        "}\n",
        "\n",
        "# Inisialisasi GridSearchCV\n",
        "grid_search = GridSearchCV(estimator=rf, param_grid=param_grid, cv=3, n_jobs=-1, verbose=2)\n",
        "\n",
        "# Melakukan pencarian grid\n",
        "grid_search.fit(X_train, y_train)\n",
        "\n",
        "# Output hasil terbaik\n",
        "print(f\"Best parameters (Grid Search): {grid_search.best_params_}\")\n",
        "best_rf_grid = grid_search.best_estimator_\n",
        "\n",
        "# Evaluasi performa model setelah Grid Search\n",
        "y_pred_grid = best_rf_grid.predict(X_test)\n",
        "\n",
        "# Menghitung MSE (Mean Squared Error)\n",
        "grid_search_mse = mean_squared_error(y_test, y_pred_grid)\n",
        "print(f\"MSE after Grid Search: {grid_search_mse:.2f}\")\n",
        "\n",
        "# Mencatat waktu selesai\n",
        "end_time = time.time()\n",
        "\n",
        "# Menghitung waktu eksekusi\n",
        "execution_time = end_time - start_time\n",
        "print(f\"Waktu eksekusi: {execution_time:.4f} detik\")"
      ],
      "metadata": {
        "id": "winbFzb8NL95",
        "colab": {
          "base_uri": "https://localhost:8080/"
        },
        "outputId": "6d9806d8-c2a0-496b-fad3-7b6c2458b6c1"
      },
      "execution_count": 307,
      "outputs": [
        {
          "output_type": "stream",
          "name": "stdout",
          "text": [
            "Fitting 3 folds for each of 216 candidates, totalling 648 fits\n",
            "Best parameters (Grid Search): {'bootstrap': True, 'max_depth': 5, 'min_samples_leaf': 1, 'min_samples_split': 2, 'n_estimators': 100}\n",
            "MSE after Grid Search: 0.00\n",
            "Waktu eksekusi: 187.2777 detik\n"
          ]
        }
      ]
    },
    {
      "cell_type": "code",
      "source": [
        "# ======== Tuning Logistic Regression ========\n",
        "lr = LogisticRegression(random_state=42)\n",
        "\n",
        "# Mencatat waktu mulai eksekusi\n",
        "start_time = time.time()\n",
        "\n",
        "# Definisikan parameter grid untuk Grid Search\n",
        "param_grid_lr = {\n",
        "    'C': [0.01, 0.1, 1, 10],                # Regularisasi\n",
        "    'solver': ['liblinear', 'saga'],        # Algoritma optimasi\n",
        "    'max_iter': [100, 200, 300]             # Jumlah iterasi maksimal\n",
        "}\n",
        "\n",
        "# Inisialisasi GridSearchCV\n",
        "grid_search_lr = GridSearchCV(estimator=lr, param_grid=param_grid_lr, cv=3, n_jobs=-1, verbose=2)\n",
        "grid_search_lr.fit(X_train, y_train)\n",
        "\n",
        "# Output hasil terbaik\n",
        "print(f\"Best parameters (Grid Search - Logistic Regression): {grid_search_lr.best_params_}\")\n",
        "best_lr_grid = grid_search_lr.best_estimator_\n",
        "\n",
        "# Evaluasi performa model setelah Grid Search\n",
        "y_pred_lr_grid = best_lr_grid.predict(X_test)\n",
        "grid_search_lr_mse = mean_squared_error(y_test, y_pred_lr_grid)\n",
        "print(f\"MSE after Grid Search (Logistic Regression): {grid_search_lr_mse:.2f}\")\n",
        "\n",
        "# Mencatat waktu selesai\n",
        "end_time = time.time()\n",
        "\n",
        "# Menghitung waktu eksekusi\n",
        "execution_time = end_time - start_time\n",
        "print(f\"Waktu eksekusi: {execution_time:.4f} detik\")"
      ],
      "metadata": {
        "colab": {
          "base_uri": "https://localhost:8080/"
        },
        "id": "5h_I9byoSIWJ",
        "outputId": "3798c759-669f-41fa-e68a-365520fdc868"
      },
      "execution_count": 308,
      "outputs": [
        {
          "output_type": "stream",
          "name": "stdout",
          "text": [
            "Fitting 3 folds for each of 24 candidates, totalling 72 fits\n",
            "Best parameters (Grid Search - Logistic Regression): {'C': 1, 'max_iter': 100, 'solver': 'saga'}\n",
            "MSE after Grid Search (Logistic Regression): 0.00\n",
            "Waktu eksekusi: 1.1510 detik\n"
          ]
        }
      ]
    },
    {
      "cell_type": "markdown",
      "source": [
        "## **d. Evaluasi Model Klasifikasi setelah Tuning (Optional)**"
      ],
      "metadata": {
        "id": "hE7pqlEPEYzI"
      }
    },
    {
      "cell_type": "markdown",
      "source": [
        "Berikut adalah rekomendasi tahapannya.\n",
        "1. Gunakan model dengan hyperparameter terbaik.\n",
        "2. Hitung ulang metrik evaluasi untuk melihat apakah ada peningkatan performa."
      ],
      "metadata": {
        "id": "feaPESoeN0zz"
      }
    },
    {
      "cell_type": "code",
      "source": [
        "# ======== Evaluasi Random Forest dengan Hyperparameter Terbaik ========\n",
        "# Gunakan model dengan hyperparameter terbaik dari GridSearchCV\n",
        "best_rf_model = grid_search.best_estimator_\n",
        "\n",
        "# Melakukan prediksi dengan model yang sudah dituning\n",
        "rf_y_pred_tuned = best_rf_model.predict(X_test)\n",
        "\n",
        "# Menghitung metrik evaluasi untuk Random Forest setelah tuning\n",
        "rf_accuracy_tuned = accuracy_score(y_test, rf_y_pred_tuned)\n",
        "rf_f1_tuned = f1_score(y_test, rf_y_pred_tuned, average='macro')  # F1-score rata-rata\n",
        "rf_precision_tuned = precision_score(y_test, rf_y_pred_tuned, average='macro')\n",
        "rf_recall_tuned = recall_score(y_test, rf_y_pred_tuned, average='macro')\n",
        "\n",
        "# Menghitung MSE (Mean Squared Error)\n",
        "rf_mse_tuned = mean_squared_error(y_test, rf_y_pred_tuned)\n",
        "\n",
        "# Menampilkan hasil evaluasi setelah tuning\n",
        "print(\"=== Evaluasi Random Forest Setelah Tuning ===\")\n",
        "print(f\"Akurasi      : {rf_accuracy_tuned:.4f}\")\n",
        "print(f\"F1-Score     : {rf_f1_tuned:.4f}\")\n",
        "print(f\"Precision    : {rf_precision_tuned:.4f}\")\n",
        "print(f\"Recall       : {rf_recall_tuned:.4f}\")\n",
        "print(f\"MSE          : {rf_mse_tuned:.2f}\")"
      ],
      "metadata": {
        "id": "HTXZRvEeNMb1",
        "colab": {
          "base_uri": "https://localhost:8080/"
        },
        "outputId": "885b410d-f480-4243-f76b-a7d22052df67"
      },
      "execution_count": 309,
      "outputs": [
        {
          "output_type": "stream",
          "name": "stdout",
          "text": [
            "=== Evaluasi Random Forest Setelah Tuning ===\n",
            "Akurasi      : 1.0000\n",
            "F1-Score     : 1.0000\n",
            "Precision    : 1.0000\n",
            "Recall       : 1.0000\n",
            "MSE          : 0.00\n"
          ]
        }
      ]
    },
    {
      "cell_type": "code",
      "source": [
        "# ======== Evaluasi Random Forest Sebelum Tuning ========\n",
        "# Latih model Random Forest default\n",
        "rf = RandomForestClassifier(random_state=42)\n",
        "rf.fit(X_train, y_train)\n",
        "\n",
        "# Prediksi sebelum tuning\n",
        "rf_y_pred_before = rf.predict(X_test)\n",
        "\n",
        "# Menghitung confusion matrix sebelum tuning\n",
        "rf_cm_before = confusion_matrix(y_test, rf_y_pred_before)\n",
        "disp_rf_before = ConfusionMatrixDisplay(confusion_matrix=rf_cm_before, display_labels=rf.classes_)\n",
        "\n",
        "# Menampilkan confusion matrix sebelum tuning dengan judul\n",
        "disp_rf_before.plot(cmap='Blues')\n",
        "plt.title('Confusion Matrix Random Forest Sebelum Tuning')  # Menambahkan judul\n",
        "plt.show()\n",
        "\n",
        "# ======== Evaluasi Random Forest Setelah Tuning ========\n",
        "# Prediksi setelah tuning menggunakan model terbaik dari GridSearchCV\n",
        "rf_y_pred_after_tuning = best_rf_grid.predict(X_test)\n",
        "\n",
        "# Menghitung confusion matrix setelah tuning\n",
        "rf_cm_after = confusion_matrix(y_test, rf_y_pred_after_tuning)\n",
        "disp_rf_after = ConfusionMatrixDisplay(confusion_matrix=rf_cm_after, display_labels=rf.classes_)\n",
        "\n",
        "# Menampilkan confusion matrix setelah tuning dengan judul\n",
        "disp_rf_after.plot(cmap='Blues')\n",
        "plt.title('Confusion Matrix Random Forest Setelah Tuning')  # Menambahkan judul\n",
        "plt.show()"
      ],
      "metadata": {
        "colab": {
          "base_uri": "https://localhost:8080/",
          "height": 927
        },
        "id": "xhKmIMKRalDG",
        "outputId": "d93037ad-19b4-488f-df83-2e0fc8dab4bd"
      },
      "execution_count": 310,
      "outputs": [
        {
          "output_type": "display_data",
          "data": {
            "text/plain": [
              "<Figure size 640x480 with 2 Axes>"
            ],
            "image/png": "[encoded data removed]"
          },
          "metadata": {}
        },
        {
          "output_type": "display_data",
          "data": {
            "text/plain": [
              "<Figure size 640x480 with 2 Axes>"
            ],
            "image/png": "[encoded data removed]"
          },
          "metadata": {}
        }
      ]
    },
    {
      "cell_type": "code",
      "source": [
        "# ======== Evaluasi Logistic Regression dengan Hyperparameter Terbaik ========\n",
        "# Gunakan model dengan hyperparameter terbaik dari GridSearchCV\n",
        "best_lr_model = grid_search_lr.best_estimator_\n",
        "\n",
        "# Melakukan prediksi dengan model yang sudah dituning\n",
        "lr_y_pred_tuned = best_lr_model.predict(X_test)\n",
        "\n",
        "# Menghitung metrik evaluasi untuk Logistic Regression setelah tuning\n",
        "lr_accuracy_tuned = accuracy_score(y_test, lr_y_pred_tuned)\n",
        "lr_f1_tuned = f1_score(y_test, lr_y_pred_tuned, average='macro')\n",
        "lr_precision_tuned = precision_score(y_test, lr_y_pred_tuned, average='macro')\n",
        "lr_recall_tuned = recall_score(y_test, lr_y_pred_tuned, average='macro')\n",
        "\n",
        "# Menghitung MSE (Mean Squared Error)\n",
        "lr_mse_tuned = mean_squared_error(y_test, lr_y_pred_tuned)\n",
        "\n",
        "# Menampilkan hasil evaluasi setelah tuning\n",
        "print(\"=== Evaluasi Logistic Regression Setelah Tuning ===\")\n",
        "print(f\"Akurasi      : {lr_accuracy_tuned:.4f}\")\n",
        "print(f\"F1-Score     : {lr_f1_tuned:.4f}\")\n",
        "print(f\"Precision    : {lr_precision_tuned:.4f}\")\n",
        "print(f\"Recall       : {lr_recall_tuned:.4f}\")\n",
        "print(f\"MSE          : {lr_mse_tuned:.2f}\")"
      ],
      "metadata": {
        "colab": {
          "base_uri": "https://localhost:8080/"
        },
        "id": "Uxg6ZVciTqiQ",
        "outputId": "f436ef2a-c6ac-40ad-80d0-c8ea97f3261a"
      },
      "execution_count": 311,
      "outputs": [
        {
          "output_type": "stream",
          "name": "stdout",
          "text": [
            "=== Evaluasi Logistic Regression Setelah Tuning ===\n",
            "Akurasi      : 1.0000\n",
            "F1-Score     : 1.0000\n",
            "Precision    : 1.0000\n",
            "Recall       : 1.0000\n",
            "MSE          : 0.00\n"
          ]
        }
      ]
    },
    {
      "cell_type": "code",
      "source": [
        "# ======== Evaluasi Logistic Regression Sebelum Tuning ========\n",
        "# Latih model Logistic Regression default\n",
        "lr = LogisticRegression(random_state=42)\n",
        "lr.fit(X_train, y_train)\n",
        "\n",
        "# Prediksi sebelum tuning\n",
        "lr_y_pred_before = lr.predict(X_test)\n",
        "\n",
        "# Menghitung confusion matrix sebelum tuning\n",
        "lr_cm_before = confusion_matrix(y_test, lr_y_pred_before)\n",
        "disp_lr_before = ConfusionMatrixDisplay(confusion_matrix=lr_cm_before, display_labels=lr.classes_)\n",
        "\n",
        "# Menampilkan confusion matrix sebelum tuning dengan judul\n",
        "disp_lr_before.plot(cmap='Blues')\n",
        "plt.title('Confusion Matrix Logistic Regression Sebelum Tuning')  # Menambahkan judul\n",
        "plt.show()\n",
        "\n",
        "# ======== Evaluasi Logistic Regression Setelah Tuning ========\n",
        "# Prediksi setelah tuning menggunakan model terbaik dari GridSearchCV\n",
        "lr_y_pred_after_tuning = best_lr_grid.predict(X_test)\n",
        "\n",
        "# Menghitung confusion matrix setelah tuning\n",
        "lr_cm_after = confusion_matrix(y_test, lr_y_pred_after_tuning)\n",
        "disp_lr_after = ConfusionMatrixDisplay(confusion_matrix=lr_cm_after, display_labels=lr.classes_)\n",
        "\n",
        "# Menampilkan confusion matrix setelah tuning dengan judul\n",
        "disp_lr_after.plot(cmap='Blues')\n",
        "plt.title('Confusion Matrix Logistic Regression Setelah Tuning')  # Menambahkan judul\n",
        "plt.show()"
      ],
      "metadata": {
        "colab": {
          "base_uri": "https://localhost:8080/",
          "height": 927
        },
        "id": "ZNfbDxJNarCt",
        "outputId": "110ac91a-865b-468f-8d51-05b1593c8b34"
      },
      "execution_count": 312,
      "outputs": [
        {
          "output_type": "display_data",
          "data": {
            "text/plain": [
              "<Figure size 640x480 with 2 Axes>"
            ],
            "image/png": "[encoded data removed]"
          },
          "metadata": {}
        },
        {
          "output_type": "display_data",
          "data": {
            "text/plain": [
              "<Figure size 640x480 with 2 Axes>"
            ],
            "image/png": "[encoded data removed]"
          },
          "metadata": {}
        }
      ]
    },
    {
      "cell_type": "markdown",
      "source": [
        "##penjelasan\n",
        "- Tidak ada perubahan performa setelah dilakukan tuning, ini menunjukkan bahwa model mungkin saja mengalami overfitting pada dataset ini.\n",
        "- Akurasi 100% menunjukkan bahwa model mampu mengenali pola dalam data dengan sangat baik.\n",
        "- MSE after Grid Search: 0.00\n",
        "  - **MSE (Mean Squared Error)** setelah **Grid Search** menunjukkan seberapa besar kesalahan model dalam prediksi. Nilai **MSE=0.00** berarti bahwa **model memprediksi dengan sempurna** pada data uji, tanpa kesalahan sama sekali.\n",
        "  - **MSE yang sangat rendah** ini bisa jadi menunjukkan bahwa model sudah terlalu cocok dengan data latih dan **overfit** dengan data uji.\n"
      ],
      "metadata": {
        "id": "n0_VBU84czGP"
      }
    },
    {
      "cell_type": "markdown",
      "source": [
        "## **e. Analisis Hasil Evaluasi Model Klasifikasi**"
      ],
      "metadata": {
        "id": "ZRsOdm4uEgAW"
      }
    },
    {
      "cell_type": "markdown",
      "source": [
        "Berikut adalah **rekomendasi** tahapannya.\n",
        "1. Bandingkan hasil evaluasi sebelum dan setelah tuning (jika dilakukan).\n",
        "2. Identifikasi kelemahan model, seperti:\n",
        "  - Precision atau Recall rendah untuk kelas tertentu.\n",
        "  - Apakah model mengalami overfitting atau underfitting?\n",
        "3. Berikan rekomendasi tindakan lanjutan, seperti mengumpulkan data tambahan atau mencoba algoritma lain jika hasil belum memuaskan."
      ],
      "metadata": {
        "id": "Hm3BhSi6N4_l"
      }
    },
    {
      "cell_type": "code",
      "source": [
        "# Membuat DataFrame untuk perbandingan evaluasi sebelum dan setelah tuning\n",
        "evaluation_comparison = {\n",
        "    \"Model\": [\"Random Forest\", \"Logistic Regression\"],\n",
        "    \"Accuracy Before Tuning\": [rf_accuracy, lr_accuracy],\n",
        "    \"Accuracy After Tuning\": [rf_accuracy_tuned, lr_accuracy_tuned],\n",
        "    \"F1-Score Before Tuning\": [rf_f1, lr_f1],\n",
        "    \"F1-Score After Tuning\": [rf_f1_tuned, lr_f1_tuned],\n",
        "    \"Precision Before Tuning\": [rf_precision, lr_precision],\n",
        "    \"Precision After Tuning\": [rf_precision_tuned, lr_precision_tuned],\n",
        "    \"Recall Before Tuning\": [rf_recall, lr_recall],\n",
        "    \"Recall After Tuning\": [rf_recall_tuned, lr_recall_tuned]\n",
        "}\n",
        "\n",
        "# Membuat DataFrame untuk perbandingan\n",
        "comparison_df = pd.DataFrame(evaluation_comparison)\n",
        "\n",
        "# Menampilkan DataFrame di Google Colab\n",
        "display(comparison_df)"
      ],
      "metadata": {
        "colab": {
          "base_uri": "https://localhost:8080/",
          "height": 181
        },
        "id": "8Du8hXBjeIN5",
        "outputId": "d158f19e-b217-40f6-ede6-2b53d8647d9f"
      },
      "execution_count": 313,
      "outputs": [
        {
          "output_type": "display_data",
          "data": {
            "text/plain": [
              "                 Model  Accuracy Before Tuning  Accuracy After Tuning  \\\n",
              "0        Random Forest                     1.0                    1.0   \n",
              "1  Logistic Regression                     1.0                    1.0   \n",
              "\n",
              "   F1-Score Before Tuning  F1-Score After Tuning  Precision Before Tuning  \\\n",
              "0                     1.0                    1.0                      1.0   \n",
              "1                     1.0                    1.0                      1.0   \n",
              "\n",
              "   Precision After Tuning  Recall Before Tuning  Recall After Tuning  \n",
              "0                     1.0                   1.0                  1.0  \n",
              "1                     1.0                   1.0                  1.0  "
            ],
            "text/html": [
              "\n",
              "  <div id=\"df-4378d9c5-d5fc-4cf5-b408-fc90cbd77c3e\" class=\"colab-df-container\">\n",
              "    <div>\n",
              "<style scoped>\n",
              "    .dataframe tbody tr th:only-of-type {\n",
              "        vertical-align: middle;\n",
              "    }\n",
              "\n",
              "    .dataframe tbody tr th {\n",
              "        vertical-align: top;\n",
              "    }\n",
              "\n",
              "    .dataframe thead th {\n",
              "        text-align: right;\n",
              "    }\n",
              "</style>\n",
              "<table border=\"1\" class=\"dataframe\">\n",
              "  <thead>\n",
              "    <tr style=\"text-align: right;\">\n",
              "      <th></th>\n",
              "      <th>Model</th>\n",
              "      <th>Accuracy Before Tuning</th>\n",
              "      <th>Accuracy After Tuning</th>\n",
              "      <th>F1-Score Before Tuning</th>\n",
              "      <th>F1-Score After Tuning</th>\n",
              "      <th>Precision Before Tuning</th>\n",
              "      <th>Precision After Tuning</th>\n",
              "      <th>Recall Before Tuning</th>\n",
              "      <th>Recall After Tuning</th>\n",
              "    </tr>\n",
              "  </thead>\n",
              "  <tbody>\n",
              "    <tr>\n",
              "      <th>0</th>\n",
              "      <td>Random Forest</td>\n",
              "      <td>1.0</td>\n",
              "      <td>1.0</td>\n",
              "      <td>1.0</td>\n",
              "      <td>1.0</td>\n",
              "      <td>1.0</td>\n",
              "      <td>1.0</td>\n",
              "      <td>1.0</td>\n",
              "      <td>1.0</td>\n",
              "    </tr>\n",
              "    <tr>\n",
              "      <th>1</th>\n",
              "      <td>Logistic Regression</td>\n",
              "      <td>1.0</td>\n",
              "      <td>1.0</td>\n",
              "      <td>1.0</td>\n",
              "      <td>1.0</td>\n",
              "      <td>1.0</td>\n",
              "      <td>1.0</td>\n",
              "      <td>1.0</td>\n",
              "      <td>1.0</td>\n",
              "    </tr>\n",
              "  </tbody>\n",
              "</table>\n",
              "</div>\n",
              "    <div class=\"colab-df-buttons\">\n",
              "\n",
              "  <div class=\"colab-df-container\">\n",
              "    <button class=\"colab-df-convert\" onclick=\"convertToInteractive('df-4378d9c5-d5fc-4cf5-b408-fc90cbd77c3e')\"\n",
              "            title=\"Convert this dataframe to an interactive table.\"\n",
              "            style=\"display:none;\">\n",
              "\n",
              "  <svg xmlns=\"http://www.w3.org/2000/svg\" height=\"24px\" viewBox=\"0 -960 960 960\">\n",
              "    <path d=\"M120-120v-720h720v720H120Zm60-500h600v-160H180v160Zm220 220h160v-160H400v160Zm0 220h160v-160H400v160ZM180-400h160v-160H180v160Zm440 0h160v-160H620v160ZM180-180h160v-160H180v160Zm440 0h160v-160H620v160Z\"/>\n",
              "  </svg>\n",
              "    </button>\n",
              "\n",
              "  <style>\n",
              "    .colab-df-container {\n",
              "      display:flex;\n",
              "      gap: 12px;\n",
              "    }\n",
              "\n",
              "    .colab-df-convert {\n",
              "      background-color: #E8F0FE;\n",
              "      border: none;\n",
              "      border-radius: 50%;\n",
              "      cursor: pointer;\n",
              "      display: none;\n",
              "      fill: #1967D2;\n",
              "      height: 32px;\n",
              "      padding: 0 0 0 0;\n",
              "      width: 32px;\n",
              "    }\n",
              "\n",
              "    .colab-df-convert:hover {\n",
              "      background-color: #E2EBFA;\n",
              "      box-shadow: 0px 1px 2px rgba(60, 64, 67, 0.3), 0px 1px 3px 1px rgba(60, 64, 67, 0.15);\n",
              "      fill: #174EA6;\n",
              "    }\n",
              "\n",
              "    .colab-df-buttons div {\n",
              "      margin-bottom: 4px;\n",
              "    }\n",
              "\n",
              "    [theme=dark] .colab-df-convert {\n",
              "      background-color: #3B4455;\n",
              "      fill: #D2E3FC;\n",
              "    }\n",
              "\n",
              "    [theme=dark] .colab-df-convert:hover {\n",
              "      background-color: #434B5C;\n",
              "      box-shadow: 0px 1px 3px 1px rgba(0, 0, 0, 0.15);\n",
              "      filter: drop-shadow(0px 1px 2px rgba(0, 0, 0, 0.3));\n",
              "      fill: #FFFFFF;\n",
              "    }\n",
              "  </style>\n",
              "\n",
              "    <script>\n",
              "      const buttonEl =\n",
              "        document.querySelector('#df-4378d9c5-d5fc-4cf5-b408-fc90cbd77c3e button.colab-df-convert');\n",
              "      buttonEl.style.display =\n",
              "        google.colab.kernel.accessAllowed ? 'block' : 'none';\n",
              "\n",
              "      async function convertToInteractive(key) {\n",
              "        const element = document.querySelector('#df-4378d9c5-d5fc-4cf5-b408-fc90cbd77c3e');\n",
              "        const dataTable =\n",
              "          await google.colab.kernel.invokeFunction('convertToInteractive',\n",
              "                                                    [key], {});\n",
              "        if (!dataTable) return;\n",
              "\n",
              "        const docLinkHtml = 'Like what you see? Visit the ' +\n",
              "          '<a target=\"_blank\" href=https://colab.research.google.com/notebooks/data_table.ipynb>data table notebook</a>'\n",
              "          + ' to learn more about interactive tables.';\n",
              "        element.innerHTML = '';\n",
              "        dataTable['output_type'] = 'display_data';\n",
              "        await google.colab.output.renderOutput(dataTable, element);\n",
              "        const docLink = document.createElement('div');\n",
              "        docLink.innerHTML = docLinkHtml;\n",
              "        element.appendChild(docLink);\n",
              "      }\n",
              "    </script>\n",
              "  </div>\n",
              "\n",
              "\n",
              "<div id=\"df-d473f297-ca16-4d29-96bc-27fba5b1cc6d\">\n",
              "  <button class=\"colab-df-quickchart\" onclick=\"quickchart('df-d473f297-ca16-4d29-96bc-27fba5b1cc6d')\"\n",
              "            title=\"Suggest charts\"\n",
              "            style=\"display:none;\">\n",
              "\n",
              "<svg xmlns=\"http://www.w3.org/2000/svg\" height=\"24px\"viewBox=\"0 0 24 24\"\n",
              "     width=\"24px\">\n",
              "    <g>\n",
              "        <path d=\"M19 3H5c-1.1 0-2 .9-2 2v14c0 1.1.9 2 2 2h14c1.1 0 2-.9 2-2V5c0-1.1-.9-2-2-2zM9 17H7v-7h2v7zm4 0h-2V7h2v10zm4 0h-2v-4h2v4z\"/>\n",
              "    </g>\n",
              "</svg>\n",
              "  </button>\n",
              "\n",
              "<style>\n",
              "  .colab-df-quickchart {\n",
              "      --bg-color: #E8F0FE;\n",
              "      --fill-color: #1967D2;\n",
              "      --hover-bg-color: #E2EBFA;\n",
              "      --hover-fill-color: #174EA6;\n",
              "      --disabled-fill-color: #AAA;\n",
              "      --disabled-bg-color: #DDD;\n",
              "  }\n",
              "\n",
              "  [theme=dark] .colab-df-quickchart {\n",
              "      --bg-color: #3B4455;\n",
              "      --fill-color: #D2E3FC;\n",
              "      --hover-bg-color: #434B5C;\n",
              "      --hover-fill-color: #FFFFFF;\n",
              "      --disabled-bg-color: #3B4455;\n",
              "      --disabled-fill-color: #666;\n",
              "  }\n",
              "\n",
              "  .colab-df-quickchart {\n",
              "    background-color: var(--bg-color);\n",
              "    border: none;\n",
              "    border-radius: 50%;\n",
              "    cursor: pointer;\n",
              "    display: none;\n",
              "    fill: var(--fill-color);\n",
              "    height: 32px;\n",
              "    padding: 0;\n",
              "    width: 32px;\n",
              "  }\n",
              "\n",
              "  .colab-df-quickchart:hover {\n",
              "    background-color: var(--hover-bg-color);\n",
              "    box-shadow: 0 1px 2px rgba(60, 64, 67, 0.3), 0 1px 3px 1px rgba(60, 64, 67, 0.15);\n",
              "    fill: var(--button-hover-fill-color);\n",
              "  }\n",
              "\n",
              "  .colab-df-quickchart-complete:disabled,\n",
              "  .colab-df-quickchart-complete:disabled:hover {\n",
              "    background-color: var(--disabled-bg-color);\n",
              "    fill: var(--disabled-fill-color);\n",
              "    box-shadow: none;\n",
              "  }\n",
              "\n",
              "  .colab-df-spinner {\n",
              "    border: 2px solid var(--fill-color);\n",
              "    border-color: transparent;\n",
              "    border-bottom-color: var(--fill-color);\n",
              "    animation:\n",
              "      spin 1s steps(1) infinite;\n",
              "  }\n",
              "\n",
              "  @keyframes spin {\n",
              "    0% {\n",
              "      border-color: transparent;\n",
              "      border-bottom-color: var(--fill-color);\n",
              "      border-left-color: var(--fill-color);\n",
              "    }\n",
              "    20% {\n",
              "      border-color: transparent;\n",
              "      border-left-color: var(--fill-color);\n",
              "      border-top-color: var(--fill-color);\n",
              "    }\n",
              "    30% {\n",
              "      border-color: transparent;\n",
              "      border-left-color: var(--fill-color);\n",
              "      border-top-color: var(--fill-color);\n",
              "      border-right-color: var(--fill-color);\n",
              "    }\n",
              "    40% {\n",
              "      border-color: transparent;\n",
              "      border-right-color: var(--fill-color);\n",
              "      border-top-color: var(--fill-color);\n",
              "    }\n",
              "    60% {\n",
              "      border-color: transparent;\n",
              "      border-right-color: var(--fill-color);\n",
              "    }\n",
              "    80% {\n",
              "      border-color: transparent;\n",
              "      border-right-color: var(--fill-color);\n",
              "      border-bottom-color: var(--fill-color);\n",
              "    }\n",
              "    90% {\n",
              "      border-color: transparent;\n",
              "      border-bottom-color: var(--fill-color);\n",
              "    }\n",
              "  }\n",
              "</style>\n",
              "\n",
              "  <script>\n",
              "    async function quickchart(key) {\n",
              "      const quickchartButtonEl =\n",
              "        document.querySelector('#' + key + ' button');\n",
              "      quickchartButtonEl.disabled = true;  // To prevent multiple clicks.\n",
              "      quickchartButtonEl.classList.add('colab-df-spinner');\n",
              "      try {\n",
              "        const charts = await google.colab.kernel.invokeFunction(\n",
              "            'suggestCharts', [key], {});\n",
              "      } catch (error) {\n",
              "        console.error('Error during call to suggestCharts:', error);\n",
              "      }\n",
              "      quickchartButtonEl.classList.remove('colab-df-spinner');\n",
              "      quickchartButtonEl.classList.add('colab-df-quickchart-complete');\n",
              "    }\n",
              "    (() => {\n",
              "      let quickchartButtonEl =\n",
              "        document.querySelector('#df-d473f297-ca16-4d29-96bc-27fba5b1cc6d button');\n",
              "      quickchartButtonEl.style.display =\n",
              "        google.colab.kernel.accessAllowed ? 'block' : 'none';\n",
              "    })();\n",
              "  </script>\n",
              "</div>\n",
              "\n",
              "  <div id=\"id_469e11d4-2702-4f5c-8d16-2b4e86b3f7ff\">\n",
              "    <style>\n",
              "      .colab-df-generate {\n",
              "        background-color: #E8F0FE;\n",
              "        border: none;\n",
              "        border-radius: 50%;\n",
              "        cursor: pointer;\n",
              "        display: none;\n",
              "        fill: #1967D2;\n",
              "        height: 32px;\n",
              "        padding: 0 0 0 0;\n",
              "        width: 32px;\n",
              "      }\n",
              "\n",
              "      .colab-df-generate:hover {\n",
              "        background-color: #E2EBFA;\n",
              "        box-shadow: 0px 1px 2px rgba(60, 64, 67, 0.3), 0px 1px 3px 1px rgba(60, 64, 67, 0.15);\n",
              "        fill: #174EA6;\n",
              "      }\n",
              "\n",
              "      [theme=dark] .colab-df-generate {\n",
              "        background-color: #3B4455;\n",
              "        fill: #D2E3FC;\n",
              "      }\n",
              "\n",
              "      [theme=dark] .colab-df-generate:hover {\n",
              "        background-color: #434B5C;\n",
              "        box-shadow: 0px 1px 3px 1px rgba(0, 0, 0, 0.15);\n",
              "        filter: drop-shadow(0px 1px 2px rgba(0, 0, 0, 0.3));\n",
              "        fill: #FFFFFF;\n",
              "      }\n",
              "    </style>\n",
              "    <button class=\"colab-df-generate\" onclick=\"generateWithVariable('comparison_df')\"\n",
              "            title=\"Generate code using this dataframe.\"\n",
              "            style=\"display:none;\">\n",
              "\n",
              "  <svg xmlns=\"http://www.w3.org/2000/svg\" height=\"24px\"viewBox=\"0 0 24 24\"\n",
              "       width=\"24px\">\n",
              "    <path d=\"M7,19H8.4L18.45,9,17,7.55,7,17.6ZM5,21V16.75L18.45,3.32a2,2,0,0,1,2.83,0l1.4,1.43a1.91,1.91,0,0,1,.58,1.4,1.91,1.91,0,0,1-.58,1.4L9.25,21ZM18.45,9,17,7.55Zm-12,3A5.31,5.31,0,0,0,4.9,8.1,5.31,5.31,0,0,0,1,6.5,5.31,5.31,0,0,0,4.9,4.9,5.31,5.31,0,0,0,6.5,1,5.31,5.31,0,0,0,8.1,4.9,5.31,5.31,0,0,0,12,6.5,5.46,5.46,0,0,0,6.5,12Z\"/>\n",
              "  </svg>\n",
              "    </button>\n",
              "    <script>\n",
              "      (() => {\n",
              "      const buttonEl =\n",
              "        document.querySelector('#id_469e11d4-2702-4f5c-8d16-2b4e86b3f7ff button.colab-df-generate');\n",
              "      buttonEl.style.display =\n",
              "        google.colab.kernel.accessAllowed ? 'block' : 'none';\n",
              "\n",
              "      buttonEl.onclick = () => {\n",
              "        google.colab.notebook.generateWithVariable('comparison_df');\n",
              "      }\n",
              "      })();\n",
              "    </script>\n",
              "  </div>\n",
              "\n",
              "    </div>\n",
              "  </div>\n"
            ],
            "application/vnd.google.colaboratory.intrinsic+json": {
              "type": "dataframe",
              "variable_name": "comparison_df",
              "summary": "{\n  \"name\": \"comparison_df\",\n  \"rows\": 2,\n  \"fields\": [\n    {\n      \"column\": \"Model\",\n      \"properties\": {\n        \"dtype\": \"string\",\n        \"num_unique_values\": 2,\n        \"samples\": [\n          \"Logistic Regression\",\n          \"Random Forest\"\n        ],\n        \"semantic_type\": \"\",\n        \"description\": \"\"\n      }\n    },\n    {\n      \"column\": \"Accuracy Before Tuning\",\n      \"properties\": {\n        \"dtype\": \"number\",\n        \"std\": 0.0,\n        \"min\": 1.0,\n        \"max\": 1.0,\n        \"num_unique_values\": 1,\n        \"samples\": [\n          1.0\n        ],\n        \"semantic_type\": \"\",\n        \"description\": \"\"\n      }\n    },\n    {\n      \"column\": \"Accuracy After Tuning\",\n      \"properties\": {\n        \"dtype\": \"number\",\n        \"std\": 0.0,\n        \"min\": 1.0,\n        \"max\": 1.0,\n        \"num_unique_values\": 1,\n        \"samples\": [\n          1.0\n        ],\n        \"semantic_type\": \"\",\n        \"description\": \"\"\n      }\n    },\n    {\n      \"column\": \"F1-Score Before Tuning\",\n      \"properties\": {\n        \"dtype\": \"number\",\n        \"std\": 0.0,\n        \"min\": 1.0,\n        \"max\": 1.0,\n        \"num_unique_values\": 1,\n        \"samples\": [\n          1.0\n        ],\n        \"semantic_type\": \"\",\n        \"description\": \"\"\n      }\n    },\n    {\n      \"column\": \"F1-Score After Tuning\",\n      \"properties\": {\n        \"dtype\": \"number\",\n        \"std\": 0.0,\n        \"min\": 1.0,\n        \"max\": 1.0,\n        \"num_unique_values\": 1,\n        \"samples\": [\n          1.0\n        ],\n        \"semantic_type\": \"\",\n        \"description\": \"\"\n      }\n    },\n    {\n      \"column\": \"Precision Before Tuning\",\n      \"properties\": {\n        \"dtype\": \"number\",\n        \"std\": 0.0,\n        \"min\": 1.0,\n        \"max\": 1.0,\n        \"num_unique_values\": 1,\n        \"samples\": [\n          1.0\n        ],\n        \"semantic_type\": \"\",\n        \"description\": \"\"\n      }\n    },\n    {\n      \"column\": \"Precision After Tuning\",\n      \"properties\": {\n        \"dtype\": \"number\",\n        \"std\": 0.0,\n        \"min\": 1.0,\n        \"max\": 1.0,\n        \"num_unique_values\": 1,\n        \"samples\": [\n          1.0\n        ],\n        \"semantic_type\": \"\",\n        \"description\": \"\"\n      }\n    },\n    {\n      \"column\": \"Recall Before Tuning\",\n      \"properties\": {\n        \"dtype\": \"number\",\n        \"std\": 0.0,\n        \"min\": 1.0,\n        \"max\": 1.0,\n        \"num_unique_values\": 1,\n        \"samples\": [\n          1.0\n        ],\n        \"semantic_type\": \"\",\n        \"description\": \"\"\n      }\n    },\n    {\n      \"column\": \"Recall After Tuning\",\n      \"properties\": {\n        \"dtype\": \"number\",\n        \"std\": 0.0,\n        \"min\": 1.0,\n        \"max\": 1.0,\n        \"num_unique_values\": 1,\n        \"samples\": [\n          1.0\n        ],\n        \"semantic_type\": \"\",\n        \"description\": \"\"\n      }\n    }\n  ]\n}"
            }
          },
          "metadata": {}
        }
      ]
    },
    {
      "cell_type": "code",
      "source": [
        "# Classification report untuk Random Forest setelah tuning\n",
        "print(\"=== Classification Report - Random Forest ===\")\n",
        "print(classification_report(y_test, rf_y_pred_after_tuning))\n",
        "\n",
        "# Classification report untuk Logistic Regression setelah tuning\n",
        "print(\"=== Classification Report - Logistic Regression ===\")\n",
        "print(classification_report(y_test, lr_y_pred_after_tuning))"
      ],
      "metadata": {
        "colab": {
          "base_uri": "https://localhost:8080/"
        },
        "id": "mbVTONoegF7N",
        "outputId": "e4f5835c-80c8-4de0-b5ae-baa4cfe5fea9"
      },
      "execution_count": 314,
      "outputs": [
        {
          "output_type": "stream",
          "name": "stdout",
          "text": [
            "=== Classification Report - Random Forest ===\n",
            "              precision    recall  f1-score   support\n",
            "\n",
            "           0       1.00      1.00      1.00       118\n",
            "           1       1.00      1.00      1.00       108\n",
            "           2       1.00      1.00      1.00       144\n",
            "           3       1.00      1.00      1.00        49\n",
            "           4       1.00      1.00      1.00        47\n",
            "           5       1.00      1.00      1.00        14\n",
            "\n",
            "    accuracy                           1.00       480\n",
            "   macro avg       1.00      1.00      1.00       480\n",
            "weighted avg       1.00      1.00      1.00       480\n",
            "\n",
            "=== Classification Report - Logistic Regression ===\n",
            "              precision    recall  f1-score   support\n",
            "\n",
            "           0       1.00      1.00      1.00       118\n",
            "           1       1.00      1.00      1.00       108\n",
            "           2       1.00      1.00      1.00       144\n",
            "           3       1.00      1.00      1.00        49\n",
            "           4       1.00      1.00      1.00        47\n",
            "           5       1.00      1.00      1.00        14\n",
            "\n",
            "    accuracy                           1.00       480\n",
            "   macro avg       1.00      1.00      1.00       480\n",
            "weighted avg       1.00      1.00      1.00       480\n",
            "\n"
          ]
        }
      ]
    },
    {
      "cell_type": "code",
      "source": [
        "# Membuat model Random Forest\n",
        "rf = RandomForestClassifier(random_state=42)\n",
        "\n",
        "# Melakukan k-fold cross-validation dengan 5 folds\n",
        "rf_cv_scores = cross_val_score(rf, X_train, y_train, cv=5, scoring='accuracy')\n",
        "\n",
        "# Menampilkan hasil cross-validation\n",
        "print(\"Cross-Validation Scores for Random Forest:\", rf_cv_scores)\n",
        "print(\"Mean Cross-Validation Score for Random Forest:\", rf_cv_scores.mean())\n",
        "print(\"Standard Deviation of Cross-Validation Scores:\", rf_cv_scores.std())\n",
        "\n",
        "# Jika skor rata-rata pada data latih lebih tinggi dari data uji, mungkin overfitting."
      ],
      "metadata": {
        "colab": {
          "base_uri": "https://localhost:8080/"
        },
        "id": "3O0PipCigzNa",
        "outputId": "e5767987-360e-4182-a8d6-ec5318d4bb27"
      },
      "execution_count": 315,
      "outputs": [
        {
          "output_type": "stream",
          "name": "stdout",
          "text": [
            "Cross-Validation Scores for Random Forest: [1. 1. 1. 1. 1.]\n",
            "Mean Cross-Validation Score for Random Forest: 1.0\n",
            "Standard Deviation of Cross-Validation Scores: 0.0\n"
          ]
        }
      ]
    },
    {
      "cell_type": "code",
      "source": [
        "from sklearn.linear_model import LogisticRegression\n",
        "\n",
        "# Membuat model Logistic Regression\n",
        "lr = LogisticRegression(random_state=42)\n",
        "\n",
        "# Melakukan k-fold cross-validation dengan 5 folds\n",
        "lr_cv_scores = cross_val_score(lr, X_train, y_train, cv=5, scoring='accuracy')\n",
        "\n",
        "# Menampilkan hasil cross-validation\n",
        "print(\"Cross-Validation Scores for Logistic Regression:\", lr_cv_scores)\n",
        "print(\"Mean Cross-Validation Score for Logistic Regression:\", lr_cv_scores.mean())\n",
        "print(\"Standard Deviation of Cross-Validation Scores:\", lr_cv_scores.std())\n",
        "\n",
        "# Jika skor rata-rata pada data latih lebih tinggi dari data uji, mungkin overfitting."
      ],
      "metadata": {
        "colab": {
          "base_uri": "https://localhost:8080/"
        },
        "id": "qM7TRSdEheEW",
        "outputId": "71a028ff-a5f4-4222-a02f-5b5e839a8f95"
      },
      "execution_count": 316,
      "outputs": [
        {
          "output_type": "stream",
          "name": "stdout",
          "text": [
            "Cross-Validation Scores for Logistic Regression: [1. 1. 1. 1. 1.]\n",
            "Mean Cross-Validation Score for Logistic Regression: 1.0\n",
            "Standard Deviation of Cross-Validation Scores: 0.0\n"
          ]
        }
      ]
    },
    {
      "cell_type": "markdown",
      "source": [
        "### **KESIMPULAN AKHIR**\n",
        "\n",
        "#### **Performa Model Setelah Tuning**\n",
        "Baik sebelum maupun setelah dilakukan tuning, kedua model **Random Forest** dan **Logistic Regression** menunjukkan **akurasi dan F1-Score sebesar 100%**. Ini menunjukkan bahwa kedua model berhasil memprediksi setiap kelas dengan sempurna pada dataset ini. **Cross-Validation F1-Score** (mean) yang juga mencapai **1.0000** mengonfirmasi bahwa model bekerja sangat baik pada berbagai subset data selama validasi silang. Hal ini menunjukkan bahwa model memiliki kemampuan untuk menggeneralisasi dengan sangat baik, bahkan pada data yang belum pernah dilihat sebelumnya.\n",
        "\n",
        "Setelah dilakukan **tuning hyperparameter** melalui **GridSearchCV**, tidak ditemukan indikasi overfitting yang signifikan. Model tetap menunjukkan performa yang sangat baik dengan **Testing Accuracy** dan **Testing F1-Score** yang tetap **1.0000**, yang mengindikasikan bahwa model dapat menangani data uji dengan sangat baik.\n",
        "\n",
        "#### **Evaluasi Overfitting**\n",
        "Training Accuracy dan Testing Accuracy, begitu pula dengan **Training F1-Score** dan **Testing F1-Score**, keduanya mencapai **100%** tanpa adanya perbedaan signifikan (0.0000) antara data latih dan data uji. Hal ini menunjukkan bahwa model tidak mengalami **overfitting** ataupun **underfitting**, dan berhasil menggeneralisasi dengan sangat baik pada dataset ini.\n",
        "\n",
        "#### **Kelemahan Model**\n",
        "Meskipun hasil yang sangat baik ini menandakan bahwa model dapat mengenali pola di setiap kelas dengan sempurna, ada kemungkinan bahwa **akurasi dan F1-Score yang sempurna** disebabkan oleh **karakteristik dataset ini**. Pola yang terlalu spesifik pada dataset ini bisa saja mempengaruhi kemampuan model jika diterapkan pada data yang berbeda atau lebih beragam di dunia nyata. **Distribusi prediksi kelas** yang cukup seimbang menandakan bahwa model dapat mengenali setiap kelas dengan baik, namun model mungkin lebih dominan dalam memprediksi kelas tertentu, tergantung pada distribusi data yang ada.\n",
        "\n",
        "#### **Upaya Mengatasi Overfitting**\n",
        "Untuk mencegah model menghafal data latih dan menjadi terlalu kompleks, beberapa langkah telah dilakukan selama **tuning Random Forest**, termasuk:\n",
        "- **Mengurangi jumlah estimator** pada model, dengan variasi **50, 100, dan 200 estimator**, untuk mencapai keseimbangan antara performa dan kompleksitas.\n",
        "- **Membatasi kedalaman pohon keputusan** dengan **max_depth 10, 20**, dan tanpa pembatasan, agar pohon tidak tumbuh terlalu dalam dan menangkap noise dari data.\n",
        "- **Menyesuaikan minimum sampel untuk split** dengan parameter **min_samples_split 2, 5, dan 10**, untuk memastikan setiap split memiliki cukup sampel.\n",
        "- **Validasi silang 10-fold** digunakan untuk memastikan model bekerja dengan konsisten pada berbagai subset data.\n",
        "\n",
        "Pada **Logistic Regression**, langkah-langkah untuk menghindari overfitting termasuk:\n",
        "- **Menyesuaikan regularisasi** dengan parameter **C** yang diuji pada nilai **0.01, 0.1, 1, 10, dan 100** untuk menemukan keseimbangan antara regulasi yang cukup kuat tanpa mengorbankan akurasi.\n",
        "- **Memilih jenis regulasi** antara **L1 dan L2**, untuk melihat mana yang lebih efektif dalam menghindari overfitting.\n",
        "- **Memilih solver** yang optimal dengan mengevaluasi **liblinear dan saga** untuk menangani dataset yang memiliki fitur kategorikal dan numerikal.\n",
        "- **Validasi silang 5-fold** dilakukan untuk memastikan model memiliki performa yang konsisten pada berbagai subset data.\n",
        "\n",
        "#### **Rekomendasi Penggunaan Model**\n",
        "Meskipun model menunjukkan **performa sempurna** pada dataset ini, sangat disarankan untuk menguji model ini dengan **data baru yang lebih bervariasi** untuk memastikan bahwa model dapat menggeneralisasi dengan baik pada kondisi yang lebih realistis. Performa yang sangat baik ini perlu diuji lebih lanjut pada **data dunia nyata** agar dapat dipastikan bahwa model tetap akurat dan tidak hanya terlalu menyesuaikan diri dengan pola pada dataset ini."
      ],
      "metadata": {
        "id": "ODB4Jemtp2Vs"
      }
    }
  ]
}
